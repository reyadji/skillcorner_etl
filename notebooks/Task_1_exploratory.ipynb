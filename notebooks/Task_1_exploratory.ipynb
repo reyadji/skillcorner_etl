{
 "cells": [
  {
   "cell_type": "code",
   "execution_count": 2,
   "id": "bc4de941-7a81-45da-af64-32314e374bda",
   "metadata": {},
   "outputs": [],
   "source": [
    "import json\n",
    "import pandas as pd\n",
    "\n",
    "from pyspark.sql import SparkSession"
   ]
  },
  {
   "cell_type": "code",
   "execution_count": 22,
   "id": "ea53de92-eb48-4e3a-9cd1-9512042ebf97",
   "metadata": {},
   "outputs": [],
   "source": [
    "metadata_file = \"10000_metadata.json\"\n",
    "tracking_file = \"10000_tracking.txt\""
   ]
  },
  {
   "cell_type": "code",
   "execution_count": 175,
   "id": "58e9398c-6d41-4692-a2bd-f7535898097a",
   "metadata": {},
   "outputs": [],
   "source": [
    "with open(metadata_file, \"r\", encoding='UTF-8') as f:\n",
    "    metadata_str = f.read()\n",
    "\n",
    "metadata = json.loads(metadata_str)"
   ]
  },
  {
   "cell_type": "code",
   "execution_count": 5,
   "id": "97ddd020-cdba-43c5-9a10-3592654cf032",
   "metadata": {},
   "outputs": [],
   "source": [
    "metadata_game_id = metadata[\"id\"]"
   ]
  },
  {
   "cell_type": "markdown",
   "id": "0904cb85-df1a-4212-a501-2b50b2041df9",
   "metadata": {},
   "source": [
    "# Metadata File Exploration #"
   ]
  },
  {
   "cell_type": "code",
   "execution_count": 92,
   "id": "c63973af-0a50-476a-b6ec-9ea29981f308",
   "metadata": {},
   "outputs": [
    {
     "name": "stdout",
     "output_type": "stream",
     "text": [
      "{'away_team': {'acronym': 'SHE',\n",
      "               'id': 746,\n",
      "               'name': 'Sheffield United',\n",
      "               'short_name': 'Sheffield'},\n",
      " 'away_team_coach': {'first_name': 'Chris', 'id': 570, 'last_name': 'Wilder'},\n",
      " 'away_team_kit': {'id': 2661,\n",
      "                   'jersey_color': '#267731',\n",
      "                   'name': 'away',\n",
      "                   'number_color': '#bebd4a',\n",
      "                   'season': {'end_year': 2021,\n",
      "                              'id': 7,\n",
      "                              'name': '2020/2021',\n",
      "                              'start_year': 2020},\n",
      "                   'team_id': 746},\n",
      " 'away_team_score': 1,\n",
      " 'ball': {'trackable_object': 55},\n",
      " 'competition_edition': {'competition': {'area': 'ENG',\n",
      "                                         'id': 1,\n",
      "                                         'name': 'Premier League'},\n",
      "                         'id': 147,\n",
      "                         'name': 'ENG - Premier League - 2020/2021',\n",
      "                         'season': {'end_year': 2021,\n",
      "                                    'id': 7,\n",
      "                                    'name': '2020/2021',\n",
      "                                    'start_year': 2020}},\n",
      " 'competition_round': {'id': 12,\n",
      "                       'name': 'Round 6',\n",
      "                       'potential_overtime': False,\n",
      "                       'round_number': 6},\n",
      " 'date_time': '2020-10-24T19:00:00Z',\n",
      " 'home_team': {'acronym': 'LIV',\n",
      "               'id': 2,\n",
      "               'name': 'Liverpool Football Club',\n",
      "               'short_name': 'Liverpool'},\n",
      " 'home_team_coach': {'first_name': 'Jürgen', 'id': 49, 'last_name': 'Klopp'},\n",
      " 'home_team_kit': {'id': 250,\n",
      "                   'jersey_color': '#c10021',\n",
      "                   'name': 'home',\n",
      "                   'number_color': '#ffffff',\n",
      "                   'season': {'end_year': 2018,\n",
      "                              'id': 4,\n",
      "                              'name': '2017/2018',\n",
      "                              'start_year': 2017},\n",
      "                   'team_id': 2},\n",
      " 'home_team_score': 2,\n",
      " 'home_team_side': ['right_to_left', 'left_to_right'],\n",
      " 'id': 10000,\n",
      " 'pitch_length': 101,\n",
      " 'pitch_width': 68,\n",
      " 'players': [{'birthday': '1987-11-29',\n",
      "              'end_time': None,\n",
      "              'first_name': 'David',\n",
      "              'gender': 'male',\n",
      "              'goal': 0,\n",
      "              'id': 18534,\n",
      "              'injured': False,\n",
      "              'last_name': 'McGoldrick',\n",
      "              'number': 17,\n",
      "              'own_goal': 0,\n",
      "              'player_role': {'acronym': 'LM',\n",
      "                              'id': 9,\n",
      "                              'name': 'Left Midfield'},\n",
      "              'red_card': 0,\n",
      "              'short_name': 'D. McGoldrick',\n",
      "              'start_time': '01:15:33',\n",
      "              'team_id': 746,\n",
      "              'team_player_id': 15719,\n",
      "              'trackable_object': 18731,\n",
      "              'yellow_card': 0},\n",
      "             {'birthday': '1997-04-07',\n",
      "              'end_time': None,\n",
      "              'first_name': 'Oliver',\n",
      "              'gender': 'male',\n",
      "              'goal': 0,\n",
      "              'id': 18651,\n",
      "              'injured': False,\n",
      "              'last_name': 'Burke',\n",
      "              'number': 14,\n",
      "              'own_goal': 0,\n",
      "              'player_role': {'acronym': 'CF',\n",
      "                              'id': 15,\n",
      "                              'name': 'Center Forward'},\n",
      "              'red_card': 0,\n",
      "              'short_name': 'O. Burke',\n",
      "              'start_time': '00:54:01',\n",
      "              'team_id': 746,\n",
      "              'team_player_id': 33628,\n",
      "              'trackable_object': 18848,\n",
      "              'yellow_card': 0},\n",
      "             {'birthday': '1995-01-16',\n",
      "              'end_time': None,\n",
      "              'first_name': 'Takumi',\n",
      "              'gender': 'male',\n",
      "              'goal': 0,\n",
      "              'id': 11773,\n",
      "              'injured': False,\n",
      "              'last_name': 'Minamino',\n",
      "              'number': 18,\n",
      "              'own_goal': 0,\n",
      "              'player_role': {'acronym': 'CF',\n",
      "                              'id': 15,\n",
      "                              'name': 'Center Forward'},\n",
      "              'red_card': 0,\n",
      "              'short_name': 'T. Minamino',\n",
      "              'start_time': '01:22:54',\n",
      "              'team_id': 2,\n",
      "              'team_player_id': 23626,\n",
      "              'trackable_object': 11879,\n",
      "              'yellow_card': 0},\n",
      "             {'birthday': '1996-12-04',\n",
      "              'end_time': '01:22:54',\n",
      "              'first_name': 'Diogo José',\n",
      "              'gender': 'male',\n",
      "              'goal': 1,\n",
      "              'id': 2766,\n",
      "              'injured': False,\n",
      "              'last_name': 'Teixeira da Silva',\n",
      "              'number': 20,\n",
      "              'own_goal': 0,\n",
      "              'player_role': {'acronym': 'RW',\n",
      "                              'id': 13,\n",
      "                              'name': 'Right Winger'},\n",
      "              'red_card': 0,\n",
      "              'short_name': 'Diogo Jota',\n",
      "              'start_time': '00:00:00',\n",
      "              'team_id': 2,\n",
      "              'team_player_id': 33986,\n",
      "              'trackable_object': 2776,\n",
      "              'yellow_card': 0},\n",
      "             {'birthday': '1986-01-04',\n",
      "              'end_time': None,\n",
      "              'first_name': 'James',\n",
      "              'gender': 'male',\n",
      "              'goal': 0,\n",
      "              'id': 4673,\n",
      "              'injured': False,\n",
      "              'last_name': 'Milner',\n",
      "              'number': 7,\n",
      "              'own_goal': 0,\n",
      "              'player_role': {'acronym': 'LM',\n",
      "                              'id': 9,\n",
      "                              'name': 'Left Midfield'},\n",
      "              'red_card': 0,\n",
      "              'short_name': 'J. Milner',\n",
      "              'start_time': '01:22:54',\n",
      "              'team_id': 2,\n",
      "              'team_player_id': 721,\n",
      "              'trackable_object': 4683,\n",
      "              'yellow_card': 0},\n",
      "             {'birthday': '1982-08-17',\n",
      "              'end_time': None,\n",
      "              'first_name': 'Phil',\n",
      "              'gender': 'male',\n",
      "              'goal': 0,\n",
      "              'id': 8655,\n",
      "              'injured': False,\n",
      "              'last_name': 'Jagielka',\n",
      "              'number': 15,\n",
      "              'own_goal': 0,\n",
      "              'player_role': {'acronym': 'SUB', 'id': 17, 'name': 'Substitute'},\n",
      "              'red_card': 0,\n",
      "              'short_name': 'P. Jagielka',\n",
      "              'start_time': None,\n",
      "              'team_id': 746,\n",
      "              'team_player_id': 20262,\n",
      "              'trackable_object': 8665,\n",
      "              'yellow_card': 0},\n",
      "             {'birthday': '1991-04-12',\n",
      "              'end_time': None,\n",
      "              'first_name': 'Oliver',\n",
      "              'gender': 'male',\n",
      "              'goal': 0,\n",
      "              'id': 12505,\n",
      "              'injured': False,\n",
      "              'last_name': 'Norwood',\n",
      "              'number': 16,\n",
      "              'own_goal': 0,\n",
      "              'player_role': {'acronym': 'SUB', 'id': 17, 'name': 'Substitute'},\n",
      "              'red_card': 0,\n",
      "              'short_name': 'O. Norwood',\n",
      "              'start_time': None,\n",
      "              'team_id': 746,\n",
      "              'team_player_id': 15718,\n",
      "              'trackable_object': 12657,\n",
      "              'yellow_card': 0},\n",
      "             {'birthday': '1996-12-03',\n",
      "              'end_time': None,\n",
      "              'first_name': 'Michael',\n",
      "              'gender': 'male',\n",
      "              'goal': 0,\n",
      "              'id': 24459,\n",
      "              'injured': False,\n",
      "              'last_name': 'Verrips',\n",
      "              'number': 21,\n",
      "              'own_goal': 0,\n",
      "              'player_role': {'acronym': 'SUB', 'id': 17, 'name': 'Substitute'},\n",
      "              'red_card': 0,\n",
      "              'short_name': 'M. Verrips',\n",
      "              'start_time': None,\n",
      "              'team_id': 746,\n",
      "              'team_player_id': 23167,\n",
      "              'trackable_object': 25480,\n",
      "              'yellow_card': 0},\n",
      "             {'birthday': '1993-09-01',\n",
      "              'end_time': None,\n",
      "              'first_name': 'Jack',\n",
      "              'gender': 'male',\n",
      "              'goal': 0,\n",
      "              'id': 4589,\n",
      "              'injured': False,\n",
      "              'last_name': 'Robinson',\n",
      "              'number': 19,\n",
      "              'own_goal': 0,\n",
      "              'player_role': {'acronym': 'SUB', 'id': 17, 'name': 'Substitute'},\n",
      "              'red_card': 0,\n",
      "              'short_name': 'J. Robinson',\n",
      "              'start_time': None,\n",
      "              'team_id': 746,\n",
      "              'team_player_id': 23832,\n",
      "              'trackable_object': 4599,\n",
      "              'yellow_card': 0},\n",
      "             {'birthday': '1986-02-05',\n",
      "              'end_time': None,\n",
      "              'first_name': 'Billy',\n",
      "              'gender': 'male',\n",
      "              'goal': 0,\n",
      "              'id': 18531,\n",
      "              'injured': False,\n",
      "              'last_name': 'Sharp',\n",
      "              'number': 10,\n",
      "              'own_goal': 0,\n",
      "              'player_role': {'acronym': 'SUB', 'id': 17, 'name': 'Substitute'},\n",
      "              'red_card': 0,\n",
      "              'short_name': 'B. Sharp',\n",
      "              'start_time': None,\n",
      "              'team_id': 746,\n",
      "              'team_player_id': 15713,\n",
      "              'trackable_object': 18728,\n",
      "              'yellow_card': 0},\n",
      "             {'birthday': '1998-02-14',\n",
      "              'end_time': None,\n",
      "              'first_name': 'Sander Gard',\n",
      "              'gender': 'male',\n",
      "              'goal': 1,\n",
      "              'id': 12029,\n",
      "              'injured': False,\n",
      "              'last_name': 'Bolin Berge',\n",
      "              'number': 8,\n",
      "              'own_goal': 0,\n",
      "              'player_role': {'acronym': 'RM',\n",
      "                              'id': 10,\n",
      "                              'name': 'Right Midfield'},\n",
      "              'red_card': 0,\n",
      "              'short_name': 'S. Berge',\n",
      "              'start_time': '00:00:00',\n",
      "              'team_id': 746,\n",
      "              'team_player_id': 23831,\n",
      "              'trackable_object': 12140,\n",
      "              'yellow_card': 1},\n",
      "             {'birthday': '1996-06-04',\n",
      "              'end_time': None,\n",
      "              'first_name': 'Oliver',\n",
      "              'gender': 'male',\n",
      "              'goal': 0,\n",
      "              'id': 13074,\n",
      "              'injured': False,\n",
      "              'last_name': 'McBurnie',\n",
      "              'number': 9,\n",
      "              'own_goal': 0,\n",
      "              'player_role': {'acronym': 'RF',\n",
      "                              'id': 16,\n",
      "                              'name': 'Right Forward'},\n",
      "              'red_card': 0,\n",
      "              'short_name': 'O. McBurnie',\n",
      "              'start_time': '00:00:00',\n",
      "              'team_id': 746,\n",
      "              'team_player_id': 20266,\n",
      "              'trackable_object': 13254,\n",
      "              'yellow_card': 0},\n",
      "             {'birthday': '1992-10-20',\n",
      "              'end_time': None,\n",
      "              'first_name': 'John',\n",
      "              'gender': 'male',\n",
      "              'goal': 0,\n",
      "              'id': 13017,\n",
      "              'injured': False,\n",
      "              'last_name': 'Egan',\n",
      "              'number': 12,\n",
      "              'own_goal': 0,\n",
      "              'player_role': {'acronym': 'CB', 'id': 2, 'name': 'Center Back'},\n",
      "              'red_card': 0,\n",
      "              'short_name': 'J. Egan',\n",
      "              'start_time': '00:00:00',\n",
      "              'team_id': 746,\n",
      "              'team_player_id': 15715,\n",
      "              'trackable_object': 13195,\n",
      "              'yellow_card': 0},\n",
      "             {'birthday': '1993-03-09',\n",
      "              'end_time': None,\n",
      "              'first_name': 'George',\n",
      "              'gender': 'male',\n",
      "              'goal': 0,\n",
      "              'id': 18527,\n",
      "              'injured': False,\n",
      "              'last_name': 'Baldock',\n",
      "              'number': 2,\n",
      "              'own_goal': 0,\n",
      "              'player_role': {'acronym': 'RWB',\n",
      "                              'id': 6,\n",
      "                              'name': 'Right Wing Back'},\n",
      "              'red_card': 0,\n",
      "              'short_name': 'G. Baldock',\n",
      "              'start_time': '00:00:00',\n",
      "              'team_id': 746,\n",
      "              'team_player_id': 15706,\n",
      "              'trackable_object': 18724,\n",
      "              'yellow_card': 0},\n",
      "             {'birthday': '1990-07-09',\n",
      "              'end_time': None,\n",
      "              'first_name': 'Enda',\n",
      "              'gender': 'male',\n",
      "              'goal': 0,\n",
      "              'id': 3098,\n",
      "              'injured': False,\n",
      "              'last_name': 'Stevens',\n",
      "              'number': 3,\n",
      "              'own_goal': 0,\n",
      "              'player_role': {'acronym': 'LCB',\n",
      "                              'id': 3,\n",
      "                              'name': 'Left Center Back'},\n",
      "              'red_card': 0,\n",
      "              'short_name': 'E. Stevens',\n",
      "              'start_time': '00:00:00',\n",
      "              'team_id': 746,\n",
      "              'team_player_id': 15707,\n",
      "              'trackable_object': 3108,\n",
      "              'yellow_card': 1},\n",
      "             {'birthday': '2000-09-14',\n",
      "              'end_time': None,\n",
      "              'first_name': 'Ethan',\n",
      "              'gender': 'male',\n",
      "              'goal': 0,\n",
      "              'id': 11632,\n",
      "              'injured': False,\n",
      "              'last_name': 'Ampadu',\n",
      "              'number': 22,\n",
      "              'own_goal': 0,\n",
      "              'player_role': {'acronym': 'DM',\n",
      "                              'id': 7,\n",
      "                              'name': 'Defensive Midfield'},\n",
      "              'red_card': 0,\n",
      "              'short_name': 'E. Ampadu',\n",
      "              'start_time': '00:00:00',\n",
      "              'team_id': 746,\n",
      "              'team_player_id': 33627,\n",
      "              'trackable_object': 11723,\n",
      "              'yellow_card': 0},\n",
      "             {'birthday': '1988-07-20',\n",
      "              'end_time': None,\n",
      "              'first_name': 'Chris',\n",
      "              'gender': 'male',\n",
      "              'goal': 0,\n",
      "              'id': 1780,\n",
      "              'injured': False,\n",
      "              'last_name': 'Basham',\n",
      "              'number': 6,\n",
      "              'own_goal': 0,\n",
      "              'player_role': {'acronym': 'RCB',\n",
      "                              'id': 4,\n",
      "                              'name': 'Right Center Back'},\n",
      "              'red_card': 0,\n",
      "              'short_name': 'C. Basham',\n",
      "              'start_time': '00:00:00',\n",
      "              'team_id': 746,\n",
      "              'team_player_id': 15710,\n",
      "              'trackable_object': 1790,\n",
      "              'yellow_card': 0},\n",
      "             {'birthday': '1994-08-05',\n",
      "              'end_time': None,\n",
      "              'first_name': 'Ben',\n",
      "              'gender': 'male',\n",
      "              'goal': 0,\n",
      "              'id': 18566,\n",
      "              'injured': False,\n",
      "              'last_name': 'Osborn',\n",
      "              'number': 23,\n",
      "              'own_goal': 0,\n",
      "              'player_role': {'acronym': 'LWB',\n",
      "                              'id': 5,\n",
      "                              'name': 'Left Wing Back'},\n",
      "              'red_card': 0,\n",
      "              'short_name': 'B. Osborn',\n",
      "              'start_time': '00:00:00',\n",
      "              'team_id': 746,\n",
      "              'team_player_id': 20265,\n",
      "              'trackable_object': 18763,\n",
      "              'yellow_card': 0},\n",
      "             {'birthday': '1998-05-14',\n",
      "              'end_time': None,\n",
      "              'first_name': 'Aaron',\n",
      "              'gender': 'male',\n",
      "              'goal': 0,\n",
      "              'id': 14040,\n",
      "              'injured': False,\n",
      "              'last_name': 'Ramsdale',\n",
      "              'number': 1,\n",
      "              'own_goal': 0,\n",
      "              'player_role': {'acronym': 'GK', 'id': 0, 'name': 'Goalkeeper'},\n",
      "              'red_card': 0,\n",
      "              'short_name': 'A. Ramsdale',\n",
      "              'start_time': '00:00:00',\n",
      "              'team_id': 746,\n",
      "              'team_player_id': 33625,\n",
      "              'trackable_object': 14237,\n",
      "              'yellow_card': 0},\n",
      "             {'birthday': '1994-02-18',\n",
      "              'end_time': '01:15:33',\n",
      "              'first_name': 'John ',\n",
      "              'gender': 'male',\n",
      "              'goal': 0,\n",
      "              'id': 18529,\n",
      "              'injured': False,\n",
      "              'last_name': 'Lundstram',\n",
      "              'number': 7,\n",
      "              'own_goal': 0,\n",
      "              'player_role': {'acronym': 'LM',\n",
      "                              'id': 9,\n",
      "                              'name': 'Left Midfield'},\n",
      "              'red_card': 0,\n",
      "              'short_name': 'J. Lundstram',\n",
      "              'start_time': '00:00:00',\n",
      "              'team_id': 746,\n",
      "              'team_player_id': 15711,\n",
      "              'trackable_object': 18726,\n",
      "              'yellow_card': 1},\n",
      "             {'birthday': '2000-04-01',\n",
      "              'end_time': '00:54:01',\n",
      "              'first_name': 'Rhian Joel',\n",
      "              'gender': 'male',\n",
      "              'goal': 0,\n",
      "              'id': 12172,\n",
      "              'injured': False,\n",
      "              'last_name': 'Brewster',\n",
      "              'number': 24,\n",
      "              'own_goal': 0,\n",
      "              'player_role': {'acronym': 'CF',\n",
      "                              'id': 15,\n",
      "                              'name': 'Center Forward'},\n",
      "              'red_card': 0,\n",
      "              'short_name': 'R. Brewster',\n",
      "              'start_time': '00:00:00',\n",
      "              'team_id': 746,\n",
      "              'team_player_id': 34676,\n",
      "              'trackable_object': 12315,\n",
      "              'yellow_card': 0},\n",
      "             {'birthday': '1991-10-10',\n",
      "              'end_time': None,\n",
      "              'first_name': 'Xherdan',\n",
      "              'gender': 'male',\n",
      "              'goal': 0,\n",
      "              'id': 10936,\n",
      "              'injured': False,\n",
      "              'last_name': 'Shaqiri',\n",
      "              'number': 23,\n",
      "              'own_goal': 0,\n",
      "              'player_role': {'acronym': 'SUB', 'id': 17, 'name': 'Substitute'},\n",
      "              'red_card': 0,\n",
      "              'short_name': 'X. Shaqiri',\n",
      "              'start_time': None,\n",
      "              'team_id': 2,\n",
      "              'team_player_id': 6542,\n",
      "              'trackable_object': 10946,\n",
      "              'yellow_card': 0},\n",
      "             {'birthday': '2001-04-13',\n",
      "              'end_time': None,\n",
      "              'first_name': 'Neco',\n",
      "              'gender': 'male',\n",
      "              'goal': 0,\n",
      "              'id': 24614,\n",
      "              'injured': False,\n",
      "              'last_name': 'Williams',\n",
      "              'number': 76,\n",
      "              'own_goal': 0,\n",
      "              'player_role': {'acronym': 'SUB', 'id': 17, 'name': 'Substitute'},\n",
      "              'red_card': 0,\n",
      "              'short_name': 'N. Williams',\n",
      "              'start_time': None,\n",
      "              'team_id': 2,\n",
      "              'team_player_id': 23530,\n",
      "              'trackable_object': 25648,\n",
      "              'yellow_card': 0},\n",
      "             {'birthday': '1997-03-21',\n",
      "              'end_time': None,\n",
      "              'first_name': 'Nathaniel',\n",
      "              'gender': 'male',\n",
      "              'goal': 0,\n",
      "              'id': 12084,\n",
      "              'injured': False,\n",
      "              'last_name': 'Phillips',\n",
      "              'number': 47,\n",
      "              'own_goal': 0,\n",
      "              'player_role': {'acronym': 'SUB', 'id': 17, 'name': 'Substitute'},\n",
      "              'red_card': 0,\n",
      "              'short_name': 'N. Phillips',\n",
      "              'start_time': None,\n",
      "              'team_id': 2,\n",
      "              'team_player_id': 6539,\n",
      "              'trackable_object': 12225,\n",
      "              'yellow_card': 0},\n",
      "             {'birthday': '2001-01-30',\n",
      "              'end_time': None,\n",
      "              'first_name': 'Curtis',\n",
      "              'gender': 'male',\n",
      "              'goal': 0,\n",
      "              'id': 11754,\n",
      "              'injured': False,\n",
      "              'last_name': 'Jones',\n",
      "              'number': 17,\n",
      "              'own_goal': 0,\n",
      "              'player_role': {'acronym': 'SUB', 'id': 17, 'name': 'Substitute'},\n",
      "              'red_card': 0,\n",
      "              'short_name': 'C. Jones',\n",
      "              'start_time': None,\n",
      "              'team_id': 2,\n",
      "              'team_player_id': 5558,\n",
      "              'trackable_object': 11855,\n",
      "              'yellow_card': 0},\n",
      "             {'birthday': '1987-01-03',\n",
      "              'end_time': None,\n",
      "              'first_name': 'Adrián',\n",
      "              'gender': 'male',\n",
      "              'goal': 0,\n",
      "              'id': 264,\n",
      "              'injured': False,\n",
      "              'last_name': 'San Miguel del Castillo',\n",
      "              'number': 13,\n",
      "              'own_goal': 0,\n",
      "              'player_role': {'acronym': 'SUB', 'id': 17, 'name': 'Substitute'},\n",
      "              'red_card': 0,\n",
      "              'short_name': 'Adrián',\n",
      "              'start_time': None,\n",
      "              'team_id': 2,\n",
      "              'team_player_id': 20243,\n",
      "              'trackable_object': 274,\n",
      "              'yellow_card': 0},\n",
      "             {'birthday': '1998-10-07',\n",
      "              'end_time': None,\n",
      "              'first_name': 'Trent',\n",
      "              'gender': 'male',\n",
      "              'goal': 0,\n",
      "              'id': 11746,\n",
      "              'injured': False,\n",
      "              'last_name': 'Alexander-Arnold',\n",
      "              'number': 66,\n",
      "              'own_goal': 0,\n",
      "              'player_role': {'acronym': 'RWB',\n",
      "                              'id': 6,\n",
      "                              'name': 'Right Wing Back'},\n",
      "              'red_card': 0,\n",
      "              'short_name': 'T. Alexander-Arnold',\n",
      "              'start_time': '00:00:00',\n",
      "              'team_id': 2,\n",
      "              'team_player_id': 5529,\n",
      "              'trackable_object': 11847,\n",
      "              'yellow_card': 0},\n",
      "             {'birthday': '1992-04-10',\n",
      "              'end_time': None,\n",
      "              'first_name': 'Sadio',\n",
      "              'gender': 'male',\n",
      "              'goal': 0,\n",
      "              'id': 9439,\n",
      "              'injured': False,\n",
      "              'last_name': 'Mané',\n",
      "              'number': 10,\n",
      "              'own_goal': 0,\n",
      "              'player_role': {'acronym': 'LW', 'id': 12, 'name': 'Left Winger'},\n",
      "              'red_card': 0,\n",
      "              'short_name': 'S. Mané',\n",
      "              'start_time': '00:00:00',\n",
      "              'team_id': 2,\n",
      "              'team_player_id': 4087,\n",
      "              'trackable_object': 9449,\n",
      "              'yellow_card': 0},\n",
      "             {'birthday': '1992-06-15',\n",
      "              'end_time': None,\n",
      "              'first_name': 'Mohamed ',\n",
      "              'gender': 'male',\n",
      "              'goal': 0,\n",
      "              'id': 7735,\n",
      "              'injured': False,\n",
      "              'last_name': 'Salah Ghaly',\n",
      "              'number': 11,\n",
      "              'own_goal': 0,\n",
      "              'player_role': {'acronym': 'CF',\n",
      "                              'id': 15,\n",
      "                              'name': 'Center Forward'},\n",
      "              'red_card': 0,\n",
      "              'short_name': 'Mohamed Salah',\n",
      "              'start_time': '00:00:00',\n",
      "              'team_id': 2,\n",
      "              'team_player_id': 4828,\n",
      "              'trackable_object': 7745,\n",
      "              'yellow_card': 0},\n",
      "             {'birthday': '1990-06-17',\n",
      "              'end_time': None,\n",
      "              'first_name': 'Jordan',\n",
      "              'gender': 'male',\n",
      "              'goal': 0,\n",
      "              'id': 5308,\n",
      "              'injured': False,\n",
      "              'last_name': 'Henderson',\n",
      "              'number': 14,\n",
      "              'own_goal': 0,\n",
      "              'player_role': {'acronym': 'RM',\n",
      "                              'id': 10,\n",
      "                              'name': 'Right Midfield'},\n",
      "              'red_card': 0,\n",
      "              'short_name': 'J. Henderson',\n",
      "              'start_time': '00:00:00',\n",
      "              'team_id': 2,\n",
      "              'team_player_id': 1088,\n",
      "              'trackable_object': 5318,\n",
      "              'yellow_card': 0},\n",
      "             {'birthday': '1997-05-23',\n",
      "              'end_time': None,\n",
      "              'first_name': 'Joe',\n",
      "              'gender': 'male',\n",
      "              'goal': 0,\n",
      "              'id': 11475,\n",
      "              'injured': False,\n",
      "              'last_name': 'Gomez',\n",
      "              'number': 12,\n",
      "              'own_goal': 0,\n",
      "              'player_role': {'acronym': 'LCB',\n",
      "                              'id': 3,\n",
      "                              'name': 'Left Center Back'},\n",
      "              'red_card': 0,\n",
      "              'short_name': 'J. Gomez',\n",
      "              'start_time': '00:00:00',\n",
      "              'team_id': 2,\n",
      "              'team_player_id': 4825,\n",
      "              'trackable_object': 11537,\n",
      "              'yellow_card': 0},\n",
      "             {'birthday': '1990-11-11',\n",
      "              'end_time': None,\n",
      "              'first_name': 'Georginio',\n",
      "              'gender': 'male',\n",
      "              'goal': 0,\n",
      "              'id': 3837,\n",
      "              'injured': False,\n",
      "              'last_name': 'Wijnaldum',\n",
      "              'number': 5,\n",
      "              'own_goal': 0,\n",
      "              'player_role': {'acronym': 'LM',\n",
      "                              'id': 9,\n",
      "                              'name': 'Left Midfield'},\n",
      "              'red_card': 0,\n",
      "              'short_name': 'G. Wijnaldum',\n",
      "              'start_time': '00:00:00',\n",
      "              'team_id': 2,\n",
      "              'team_player_id': 4086,\n",
      "              'trackable_object': 3847,\n",
      "              'yellow_card': 0},\n",
      "             {'birthday': '1993-10-23',\n",
      "              'end_time': None,\n",
      "              'first_name': 'Fábio Henrique',\n",
      "              'gender': 'male',\n",
      "              'goal': 0,\n",
      "              'id': 3257,\n",
      "              'injured': False,\n",
      "              'last_name': 'Tavares',\n",
      "              'number': 3,\n",
      "              'own_goal': 0,\n",
      "              'player_role': {'acronym': 'RCB',\n",
      "                              'id': 4,\n",
      "                              'name': 'Right Center Back'},\n",
      "              'red_card': 0,\n",
      "              'short_name': 'Fabinho',\n",
      "              'start_time': '00:00:00',\n",
      "              'team_id': 2,\n",
      "              'team_player_id': 6534,\n",
      "              'trackable_object': 3267,\n",
      "              'yellow_card': 0},\n",
      "             {'birthday': '1992-10-02',\n",
      "              'end_time': None,\n",
      "              'first_name': 'Alisson Ramsés',\n",
      "              'gender': 'male',\n",
      "              'goal': 0,\n",
      "              'id': 11499,\n",
      "              'injured': False,\n",
      "              'last_name': 'Becker',\n",
      "              'number': 1,\n",
      "              'own_goal': 0,\n",
      "              'player_role': {'acronym': 'GK', 'id': 0, 'name': 'Goalkeeper'},\n",
      "              'red_card': 0,\n",
      "              'short_name': 'Alisson',\n",
      "              'start_time': '00:00:00',\n",
      "              'team_id': 2,\n",
      "              'team_player_id': 6530,\n",
      "              'trackable_object': 11565,\n",
      "              'yellow_card': 0},\n",
      "             {'birthday': '1994-03-11',\n",
      "              'end_time': None,\n",
      "              'first_name': 'Andrew',\n",
      "              'gender': 'male',\n",
      "              'goal': 0,\n",
      "              'id': 841,\n",
      "              'injured': False,\n",
      "              'last_name': 'Robertson',\n",
      "              'number': 26,\n",
      "              'own_goal': 0,\n",
      "              'player_role': {'acronym': 'LWB',\n",
      "                              'id': 5,\n",
      "                              'name': 'Left Wing Back'},\n",
      "              'red_card': 0,\n",
      "              'short_name': 'A. Robertson',\n",
      "              'start_time': '00:00:00',\n",
      "              'team_id': 2,\n",
      "              'team_player_id': 5532,\n",
      "              'trackable_object': 851,\n",
      "              'yellow_card': 0},\n",
      "             {'birthday': '1991-10-02',\n",
      "              'end_time': '01:22:54',\n",
      "              'first_name': 'Roberto Firmino',\n",
      "              'gender': 'male',\n",
      "              'goal': 1,\n",
      "              'id': 9133,\n",
      "              'injured': False,\n",
      "              'last_name': 'Barbosa de Oliveira',\n",
      "              'number': 9,\n",
      "              'own_goal': 0,\n",
      "              'player_role': {'acronym': 'AM',\n",
      "                              'id': 11,\n",
      "                              'name': 'Attacking Midfield'},\n",
      "              'red_card': 0,\n",
      "              'short_name': 'Roberto Firmino',\n",
      "              'start_time': '00:00:00',\n",
      "              'team_id': 2,\n",
      "              'team_player_id': 3966,\n",
      "              'trackable_object': 9143,\n",
      "              'yellow_card': 0}],\n",
      " 'referees': [],\n",
      " 'stadium': {'capacity': 54074,\n",
      "             'city': 'Liverpool',\n",
      "             'id': 1,\n",
      "             'name': 'Anfield'},\n",
      " 'status': 'closed'}\n"
     ]
    }
   ],
   "source": [
    "from pprint import pprint\n",
    "\n",
    "pprint(metadata)"
   ]
  },
  {
   "cell_type": "code",
   "execution_count": 9,
   "id": "b059c5ab-681a-49a8-887d-2966f66167f9",
   "metadata": {},
   "outputs": [
    {
     "data": {
      "text/plain": [
       "20"
      ]
     },
     "execution_count": 9,
     "metadata": {},
     "output_type": "execute_result"
    }
   ],
   "source": [
    "len(metadata.keys())"
   ]
  },
  {
   "cell_type": "code",
   "execution_count": 10,
   "id": "1ea73ada-2f0b-45ec-9f67-c8b1f9928106",
   "metadata": {},
   "outputs": [
    {
     "data": {
      "text/plain": [
       "dict_keys(['id', 'home_team_score', 'away_team_score', 'date_time', 'stadium', 'home_team', 'home_team_kit', 'away_team', 'away_team_kit', 'home_team_coach', 'away_team_coach', 'competition_edition', 'competition_round', 'referees', 'players', 'status', 'home_team_side', 'ball', 'pitch_length', 'pitch_width'])"
      ]
     },
     "execution_count": 10,
     "metadata": {},
     "output_type": "execute_result"
    }
   ],
   "source": [
    "metadata.keys()"
   ]
  },
  {
   "cell_type": "code",
   "execution_count": 17,
   "id": "897864e5-4de6-4c39-a681-1bbcba84b832",
   "metadata": {},
   "outputs": [
    {
     "data": {
      "text/plain": [
       "10000"
      ]
     },
     "execution_count": 17,
     "metadata": {},
     "output_type": "execute_result"
    }
   ],
   "source": [
    "metadata_game_id"
   ]
  },
  {
   "cell_type": "markdown",
   "id": "ef0cf7a3-3792-48dc-a512-66864817d909",
   "metadata": {},
   "source": [
    "The metadata looks straight-forward. The entire metadata is to inform a match, which includes multiple entities, including __Teams__, __Players__, __Referees__, __Competition__."
   ]
  },
  {
   "cell_type": "code",
   "execution_count": 34,
   "id": "82483bc4-9922-432c-9911-76e6a6b2d8d1",
   "metadata": {},
   "outputs": [
    {
     "data": {
      "text/plain": [
       "(1, 20)"
      ]
     },
     "execution_count": 34,
     "metadata": {},
     "output_type": "execute_result"
    }
   ],
   "source": [
    "metadata_df = pd.DataFrame.from_dict(metadata, orient='index')\n",
    "metadata_df = metadata_df.transpose()\n",
    "metadata_df.shape\n",
    "\n",
    "# type(metadata)"
   ]
  },
  {
   "cell_type": "code",
   "execution_count": 85,
   "id": "190cd485-3115-48b3-a58a-33e7aa2cfb35",
   "metadata": {},
   "outputs": [
    {
     "data": {
      "text/plain": [
       "dict"
      ]
     },
     "execution_count": 85,
     "metadata": {},
     "output_type": "execute_result"
    }
   ],
   "source": [
    "type(metadata)"
   ]
  },
  {
   "cell_type": "code",
   "execution_count": 176,
   "id": "dd20e783-b72b-4ddb-aa66-51e47133b9fb",
   "metadata": {},
   "outputs": [
    {
     "data": {
      "text/plain": [
       "(36, 18)"
      ]
     },
     "execution_count": 176,
     "metadata": {},
     "output_type": "execute_result"
    }
   ],
   "source": [
    "players_df = pd.DataFrame.from_dict(metadata.pop('players'))\n",
    "\n",
    "players_df.shape"
   ]
  },
  {
   "cell_type": "code",
   "execution_count": 178,
   "id": "80256114-b047-4533-9f52-331528b1da43",
   "metadata": {},
   "outputs": [
    {
     "data": {
      "text/plain": [
       "player_role         object\n",
       "start_time          object\n",
       "end_time            object\n",
       "number               int64\n",
       "yellow_card          int64\n",
       "red_card             int64\n",
       "injured               bool\n",
       "goal                 int64\n",
       "own_goal             int64\n",
       "team_player_id       int64\n",
       "team_id              int64\n",
       "id                   int64\n",
       "first_name          object\n",
       "last_name           object\n",
       "short_name          object\n",
       "birthday            object\n",
       "trackable_object     int64\n",
       "gender              object\n",
       "dtype: object"
      ]
     },
     "execution_count": 178,
     "metadata": {},
     "output_type": "execute_result"
    }
   ],
   "source": [
    "players_df.dtypes"
   ]
  },
  {
   "cell_type": "code",
   "execution_count": 90,
   "id": "49523d08-1641-4b7f-94db-6e916ac3cfb9",
   "metadata": {},
   "outputs": [
    {
     "data": {
      "text/plain": [
       "19"
      ]
     },
     "execution_count": 90,
     "metadata": {},
     "output_type": "execute_result"
    }
   ],
   "source": [
    "len(metadata.keys())"
   ]
  },
  {
   "cell_type": "markdown",
   "id": "db98f4a9-86fe-4903-a1df-ddaeeb7ce010",
   "metadata": {},
   "source": [
    "## Tracking Exploration ##"
   ]
  },
  {
   "cell_type": "code",
   "execution_count": 6,
   "id": "4cc68b53-2282-41a1-9619-dae6774be9c8",
   "metadata": {},
   "outputs": [],
   "source": [
    "f = open(tracking_file, \"r\")\n",
    "lines = f.readlines()\n",
    "\n",
    "tracking = []\n",
    "for line in lines:\n",
    "    tracking.append(json.loads(line))"
   ]
  },
  {
   "cell_type": "code",
   "execution_count": 7,
   "id": "109d869b-00b3-4ca9-94bf-9d73ef07ccff",
   "metadata": {},
   "outputs": [],
   "source": [
    "tracking_game_id = tracking_file.split(\"_\")[0]"
   ]
  },
  {
   "cell_type": "code",
   "execution_count": 8,
   "id": "33888ce0-f8c8-4cdb-b7d7-c10b4008509f",
   "metadata": {},
   "outputs": [
    {
     "data": {
      "text/plain": [
       "57748"
      ]
     },
     "execution_count": 8,
     "metadata": {},
     "output_type": "execute_result"
    }
   ],
   "source": [
    "len(tracking)"
   ]
  },
  {
   "cell_type": "code",
   "execution_count": 9,
   "id": "de0efece-d879-49dc-93a7-6b5590b83636",
   "metadata": {},
   "outputs": [
    {
     "data": {
      "text/plain": [
       "[{'data': [],\n",
       "  'possession': {'group': None, 'trackable_object': None},\n",
       "  'frame': 0,\n",
       "  'image_corners_projection': [],\n",
       "  'timestamp': None,\n",
       "  'period': None},\n",
       " {'data': [],\n",
       "  'possession': {'group': None, 'trackable_object': None},\n",
       "  'frame': 1,\n",
       "  'image_corners_projection': [],\n",
       "  'timestamp': None,\n",
       "  'period': None},\n",
       " {'data': [],\n",
       "  'possession': {'group': None, 'trackable_object': None},\n",
       "  'frame': 2,\n",
       "  'image_corners_projection': [],\n",
       "  'timestamp': None,\n",
       "  'period': None},\n",
       " {'data': [],\n",
       "  'possession': {'group': None, 'trackable_object': None},\n",
       "  'frame': 3,\n",
       "  'image_corners_projection': [],\n",
       "  'timestamp': None,\n",
       "  'period': None},\n",
       " {'data': [],\n",
       "  'possession': {'group': None, 'trackable_object': None},\n",
       "  'frame': 4,\n",
       "  'image_corners_projection': [],\n",
       "  'timestamp': None,\n",
       "  'period': None}]"
      ]
     },
     "execution_count": 9,
     "metadata": {},
     "output_type": "execute_result"
    }
   ],
   "source": [
    "tracking[0:5]"
   ]
  },
  {
   "cell_type": "code",
   "execution_count": 10,
   "id": "b551ac7b-0ed7-4624-9f95-28cbb797a92d",
   "metadata": {},
   "outputs": [
    {
     "data": {
      "text/plain": [
       "{'data': [{'track_id': 11565,\n",
       "   'trackable_object': 11565,\n",
       "   'is_visible': False,\n",
       "   'x': -30.79,\n",
       "   'y': -3.37},\n",
       "  {'track_id': 3267,\n",
       "   'trackable_object': 3267,\n",
       "   'is_visible': False,\n",
       "   'x': -0.78,\n",
       "   'y': -24.53},\n",
       "  {'track_id': 11537,\n",
       "   'trackable_object': 11537,\n",
       "   'is_visible': False,\n",
       "   'x': -1.79,\n",
       "   'y': -12.67},\n",
       "  {'track_id': 11847,\n",
       "   'trackable_object': 11847,\n",
       "   'is_visible': True,\n",
       "   'x': 7.91,\n",
       "   'y': -30.35},\n",
       "  {'track_id': 851,\n",
       "   'trackable_object': 851,\n",
       "   'is_visible': False,\n",
       "   'x': 3.3,\n",
       "   'y': 3.99},\n",
       "  {'track_id': 3847,\n",
       "   'trackable_object': 3847,\n",
       "   'is_visible': True,\n",
       "   'x': 24.22,\n",
       "   'y': -30.23},\n",
       "  {'track_id': 5318,\n",
       "   'trackable_object': 5318,\n",
       "   'is_visible': True,\n",
       "   'x': 15.02,\n",
       "   'y': -22.19},\n",
       "  {'track_id': 11879,\n",
       "   'trackable_object': 11879,\n",
       "   'is_visible': True,\n",
       "   'x': 24.36,\n",
       "   'y': -26.31},\n",
       "  {'track_id': 4683,\n",
       "   'trackable_object': 4683,\n",
       "   'is_visible': True,\n",
       "   'x': 13.29,\n",
       "   'y': -12.16},\n",
       "  {'track_id': 9449,\n",
       "   'trackable_object': 9449,\n",
       "   'is_visible': True,\n",
       "   'x': 30.51,\n",
       "   'y': 1.28},\n",
       "  {'track_id': 7745,\n",
       "   'trackable_object': 7745,\n",
       "   'is_visible': True,\n",
       "   'x': 36.77,\n",
       "   'y': -12.06},\n",
       "  {'track_id': 14237,\n",
       "   'trackable_object': 14237,\n",
       "   'is_visible': True,\n",
       "   'x': 45.51,\n",
       "   'y': -3.46},\n",
       "  {'track_id': 13195,\n",
       "   'trackable_object': 13195,\n",
       "   'is_visible': False,\n",
       "   'x': 40.46,\n",
       "   'y': -14.2},\n",
       "  {'track_id': 1790,\n",
       "   'trackable_object': 1790,\n",
       "   'is_visible': True,\n",
       "   'x': 34.26,\n",
       "   'y': -3.2},\n",
       "  {'track_id': 3108,\n",
       "   'trackable_object': 3108,\n",
       "   'is_visible': True,\n",
       "   'x': 23.35,\n",
       "   'y': -28.63},\n",
       "  {'track_id': 18724,\n",
       "   'trackable_object': 18724,\n",
       "   'is_visible': True,\n",
       "   'x': 21.46,\n",
       "   'y': 15.66},\n",
       "  {'track_id': 18763,\n",
       "   'trackable_object': 18763,\n",
       "   'is_visible': False,\n",
       "   'x': 10.46,\n",
       "   'y': -35.56},\n",
       "  {'track_id': 11723,\n",
       "   'trackable_object': 11723,\n",
       "   'is_visible': True,\n",
       "   'x': 26.25,\n",
       "   'y': -20.09},\n",
       "  {'track_id': 18731,\n",
       "   'trackable_object': 18731,\n",
       "   'is_visible': True,\n",
       "   'x': 10.85,\n",
       "   'y': -20.2},\n",
       "  {'track_id': 12140,\n",
       "   'trackable_object': 12140,\n",
       "   'is_visible': True,\n",
       "   'x': 20.3,\n",
       "   'y': -11.6},\n",
       "  {'track_id': 13254,\n",
       "   'trackable_object': 13254,\n",
       "   'is_visible': False,\n",
       "   'x': 4.46,\n",
       "   'y': -18.25},\n",
       "  {'track_id': 18848,\n",
       "   'trackable_object': 18848,\n",
       "   'is_visible': False,\n",
       "   'x': 3.96,\n",
       "   'y': -23.15},\n",
       "  {'track_id': 55,\n",
       "   'trackable_object': 55,\n",
       "   'is_visible': False,\n",
       "   'x': 14.74,\n",
       "   'y': -12.19,\n",
       "   'z': 1.47}],\n",
       " 'possession': {'group': None, 'trackable_object': None},\n",
       " 'frame': 57747,\n",
       " 'image_corners_projection': [8.430311130626846,\n",
       "  39.0,\n",
       "  2.611257482754226,\n",
       "  -30.2979953045256,\n",
       "  22.052361010560848,\n",
       "  -37.06480656582494,\n",
       "  75.54596930127707,\n",
       "  39.0],\n",
       " 'timestamp': '01:33:07.70',\n",
       " 'period': 2}"
      ]
     },
     "execution_count": 10,
     "metadata": {},
     "output_type": "execute_result"
    }
   ],
   "source": [
    "tracking[57747]"
   ]
  },
  {
   "cell_type": "markdown",
   "id": "c3af6405-e27e-45fe-be57-9f1ad9cfe9e2",
   "metadata": {},
   "source": [
    "A lot of questions here, including how does the tracking data relate to the match metadata? What is the list of double in _image_corners_projection_ about?"
   ]
  },
  {
   "cell_type": "markdown",
   "id": "7d2602a5-23c1-4b84-8c04-200a5a276e14",
   "metadata": {},
   "source": [
    "_trackable_object_ is actually in both sets"
   ]
  },
  {
   "cell_type": "code",
   "execution_count": 29,
   "id": "311ea1d7-a678-4c44-ad3c-91afb522de8d",
   "metadata": {},
   "outputs": [
    {
     "data": {
      "text/plain": [
       "{'player_role': {'id': 15, 'name': 'Center Forward', 'acronym': 'CF'},\n",
       " 'start_time': '01:22:54',\n",
       " 'end_time': None,\n",
       " 'number': 18,\n",
       " 'yellow_card': 0,\n",
       " 'red_card': 0,\n",
       " 'injured': False,\n",
       " 'goal': 0,\n",
       " 'own_goal': 0,\n",
       " 'team_player_id': 23626,\n",
       " 'team_id': 2,\n",
       " 'id': 11773,\n",
       " 'first_name': 'Takumi',\n",
       " 'last_name': 'Minamino',\n",
       " 'short_name': 'T. Minamino',\n",
       " 'birthday': '1995-01-16',\n",
       " 'trackable_object': 11879,\n",
       " 'gender': 'male'}"
      ]
     },
     "execution_count": 29,
     "metadata": {},
     "output_type": "execute_result"
    }
   ],
   "source": [
    "metadata[\"players\"][2]"
   ]
  },
  {
   "cell_type": "code",
   "execution_count": 46,
   "id": "918bf9c4-5024-427b-a1bd-899e5aa91288",
   "metadata": {},
   "outputs": [
    {
     "name": "stdout",
     "output_type": "stream",
     "text": [
      "{'birthday': '1994-03-11',\n",
      " 'end_time': None,\n",
      " 'first_name': 'Andrew',\n",
      " 'gender': 'male',\n",
      " 'goal': 0,\n",
      " 'id': 841,\n",
      " 'injured': False,\n",
      " 'last_name': 'Robertson',\n",
      " 'number': 26,\n",
      " 'own_goal': 0,\n",
      " 'player_role': {'acronym': 'LWB', 'id': 5, 'name': 'Left Wing Back'},\n",
      " 'red_card': 0,\n",
      " 'short_name': 'A. Robertson',\n",
      " 'start_time': '00:00:00',\n",
      " 'team_id': 2,\n",
      " 'team_player_id': 5532,\n",
      " 'trackable_object': 851,\n",
      " 'yellow_card': 0}\n"
     ]
    }
   ],
   "source": [
    "for player in metadata[\"players\"]:\n",
    "    if player['trackable_object'] == 851:\n",
    "        pprint(player)"
   ]
  },
  {
   "cell_type": "code",
   "execution_count": 23,
   "id": "2f6042cf-94cd-4418-a180-5159c2ee8f6c",
   "metadata": {},
   "outputs": [
    {
     "data": {
      "text/plain": [
       "23"
      ]
     },
     "execution_count": 23,
     "metadata": {},
     "output_type": "execute_result"
    }
   ],
   "source": [
    "len(tracking[1000]['data'])"
   ]
  },
  {
   "cell_type": "markdown",
   "id": "d4f9cb6c-ecde-4351-ab6f-6e0c796e7554",
   "metadata": {},
   "source": [
    "There are 23 trackable objects. What else is _trackable_object_ beside the 22 players from both teams?"
   ]
  },
  {
   "cell_type": "markdown",
   "id": "aa93e58e-c83d-47c4-afed-4196b6396164",
   "metadata": {},
   "source": [
    "Apparently, the ball (_trackable_object_ = 55) is also tracked."
   ]
  },
  {
   "cell_type": "code",
   "execution_count": 24,
   "id": "cc6cbefd-20be-4c1b-aeff-f828a81aec14",
   "metadata": {},
   "outputs": [
    {
     "data": {
      "text/plain": [
       "dict_keys(['data', 'possession', 'frame', 'image_corners_projection', 'timestamp', 'period'])"
      ]
     },
     "execution_count": 24,
     "metadata": {},
     "output_type": "execute_result"
    }
   ],
   "source": [
    "tracking[1000].keys()"
   ]
  },
  {
   "cell_type": "markdown",
   "id": "a31f65d7-43d2-41b7-b5c8-d78ed35d8873",
   "metadata": {},
   "source": [
    "# Extract"
   ]
  },
  {
   "cell_type": "code",
   "execution_count": 2,
   "id": "716a9664-f9b4-4254-ac8f-dab8bbd4cf23",
   "metadata": {},
   "outputs": [
    {
     "name": "stderr",
     "output_type": "stream",
     "text": [
      "23/12/04 17:19:54 WARN Utils: Your hostname, ALDO-DESKTOP resolves to a loopback address: 127.0.1.1; using 172.19.19.57 instead (on interface eth0)\n",
      "23/12/04 17:19:54 WARN Utils: Set SPARK_LOCAL_IP if you need to bind to another address\n",
      "Setting default log level to \"WARN\".\n",
      "To adjust logging level use sc.setLogLevel(newLevel). For SparkR, use setLogLevel(newLevel).\n",
      "23/12/04 17:19:55 WARN NativeCodeLoader: Unable to load native-hadoop library for your platform... using builtin-java classes where applicable\n"
     ]
    }
   ],
   "source": [
    "from pyspark.sql import SparkSession\n",
    "\n",
    "# Create a SparkSession\n",
    "spark = SparkSession.builder.getOrCreate()"
   ]
  },
  {
   "cell_type": "code",
   "execution_count": 3,
   "id": "d74e0f6d-97f4-4a96-8abe-5dc07127ddde",
   "metadata": {},
   "outputs": [
    {
     "name": "stderr",
     "output_type": "stream",
     "text": [
      "/home/reyadji/.pyenv/versions/3.10.12/lib/python3.10/site-packages/pyspark/pandas/__init__.py:50: UserWarning: 'PYARROW_IGNORE_TIMEZONE' environment variable was not set. It is required to set this environment variable to '1' in both driver and executor sides if you use pyarrow>=2.0.0. pandas-on-Spark will set it for you but it does not work if there is a Spark context already launched.\n",
      "  warnings.warn(\n"
     ]
    }
   ],
   "source": [
    "import pyspark.pandas as ps"
   ]
  },
  {
   "cell_type": "markdown",
   "id": "751b8d4e-68a2-4228-9fc4-fa0ec1a2ab7f",
   "metadata": {},
   "source": [
    "### Using Spark"
   ]
  },
  {
   "cell_type": "code",
   "execution_count": 71,
   "id": "3a808e23-1508-4578-9eeb-10e103696ae3",
   "metadata": {},
   "outputs": [],
   "source": [
    "spark_tracking_df = spark.read.text(tracking_file, lineSep=\"\\n\")"
   ]
  },
  {
   "cell_type": "code",
   "execution_count": 72,
   "id": "ba62c47e-8ec9-4300-b9d7-e4c9aabb53ca",
   "metadata": {},
   "outputs": [
    {
     "data": {
      "text/plain": [
       "57748"
      ]
     },
     "execution_count": 72,
     "metadata": {},
     "output_type": "execute_result"
    }
   ],
   "source": [
    "spark_tracking_df.count()"
   ]
  },
  {
   "cell_type": "code",
   "execution_count": 73,
   "id": "473fff98-207e-4de3-b97c-23c6a7c65e08",
   "metadata": {},
   "outputs": [
    {
     "name": "stdout",
     "output_type": "stream",
     "text": [
      "root\n",
      " |-- value: string (nullable = true)\n",
      "\n"
     ]
    }
   ],
   "source": [
    "spark_tracking_df.printSchema()"
   ]
  },
  {
   "cell_type": "code",
   "execution_count": 74,
   "id": "37d61962-e302-4184-98fa-ad63a7639a25",
   "metadata": {},
   "outputs": [
    {
     "name": "stdout",
     "output_type": "stream",
     "text": [
      "+--------------------+\n",
      "|               value|\n",
      "+--------------------+\n",
      "|{\"data\": [], \"pos...|\n",
      "|{\"data\": [], \"pos...|\n",
      "|{\"data\": [], \"pos...|\n",
      "|{\"data\": [], \"pos...|\n",
      "|{\"data\": [], \"pos...|\n",
      "|{\"data\": [], \"pos...|\n",
      "|{\"data\": [], \"pos...|\n",
      "|{\"data\": [], \"pos...|\n",
      "|{\"data\": [], \"pos...|\n",
      "|{\"data\": [], \"pos...|\n",
      "|{\"data\": [{\"track...|\n",
      "|{\"data\": [{\"track...|\n",
      "|{\"data\": [{\"track...|\n",
      "|{\"data\": [{\"track...|\n",
      "|{\"data\": [{\"track...|\n",
      "|{\"data\": [{\"track...|\n",
      "|{\"data\": [{\"track...|\n",
      "|{\"data\": [{\"track...|\n",
      "|{\"data\": [{\"track...|\n",
      "|{\"data\": [{\"track...|\n",
      "+--------------------+\n",
      "only showing top 20 rows\n",
      "\n"
     ]
    }
   ],
   "source": [
    "spark_tracking_df.show()"
   ]
  },
  {
   "cell_type": "markdown",
   "id": "3f91a0b9-22ea-46fa-9c47-1e7ac8ab0e58",
   "metadata": {},
   "source": [
    "The most important data (track_id/trackable_object) is in a list under data, which is a list itself for the entire match, e.g. tracking[{'data':[{'track_id',....}]}, ... ]\n",
    "\n",
    "The dataframe needs to be flatten until the track_id is at the top level of the dataframe."
   ]
  },
  {
   "cell_type": "code",
   "execution_count": 37,
   "id": "4edb6e61-566f-41a8-8088-5e8327fdddae",
   "metadata": {},
   "outputs": [],
   "source": [
    "from pyspark.sql.functions import from_json\n",
    "from pyspark.sql.types import *"
   ]
  },
  {
   "cell_type": "code",
   "execution_count": null,
   "id": "0faffdfa-2a18-4c01-8820-737606bb4292",
   "metadata": {},
   "outputs": [],
   "source": [
    "# tracking_schema = ArrayType(\n",
    "#     StructType([StructField(\"data\", ArrayType(\n",
    "\n",
    "# df2 = df.withColumn(\"attribute3\", from_json(df.attribute3, schema))\n",
    "spark_tracking_df = "
   ]
  },
  {
   "cell_type": "markdown",
   "id": "e6a4bdda-f749-44ca-883e-60927ae7913e",
   "metadata": {},
   "source": [
    "### Using pandas"
   ]
  },
  {
   "cell_type": "code",
   "execution_count": 11,
   "id": "f2afb15d-8dbf-49e1-8e13-83ce287e846a",
   "metadata": {},
   "outputs": [
    {
     "data": {
      "text/plain": [
       "'10000'"
      ]
     },
     "execution_count": 11,
     "metadata": {},
     "output_type": "execute_result"
    }
   ],
   "source": [
    "tracking_game_id = tracking_file.split(\"_\")[0]\n",
    "\n",
    "tracking_game_id"
   ]
  },
  {
   "cell_type": "code",
   "execution_count": 52,
   "id": "86d40435-5971-4294-9450-40e90982f032",
   "metadata": {},
   "outputs": [
    {
     "data": {
      "text/html": [
       "<div>\n",
       "<style scoped>\n",
       "    .dataframe tbody tr th:only-of-type {\n",
       "        vertical-align: middle;\n",
       "    }\n",
       "\n",
       "    .dataframe tbody tr th {\n",
       "        vertical-align: top;\n",
       "    }\n",
       "\n",
       "    .dataframe thead th {\n",
       "        text-align: right;\n",
       "    }\n",
       "</style>\n",
       "<table border=\"1\" class=\"dataframe\">\n",
       "  <thead>\n",
       "    <tr style=\"text-align: right;\">\n",
       "      <th></th>\n",
       "      <th>data</th>\n",
       "      <th>possession</th>\n",
       "      <th>frame</th>\n",
       "      <th>image_corners_projection</th>\n",
       "      <th>timestamp</th>\n",
       "      <th>period</th>\n",
       "      <th>game_id</th>\n",
       "    </tr>\n",
       "  </thead>\n",
       "  <tbody>\n",
       "    <tr>\n",
       "      <th>23675</th>\n",
       "      <td>[{'track_id': 512, 'trackable_object': 512, 'i...</td>\n",
       "      <td>{'group': None, 'trackable_object': None}</td>\n",
       "      <td>23675</td>\n",
       "      <td>[]</td>\n",
       "      <td>00:39:26.50</td>\n",
       "      <td>1.0</td>\n",
       "      <td>10009</td>\n",
       "    </tr>\n",
       "    <tr>\n",
       "      <th>2167</th>\n",
       "      <td>[{'track_id': 512, 'trackable_object': 512, 'i...</td>\n",
       "      <td>{'group': 'away team', 'trackable_object': None}</td>\n",
       "      <td>2167</td>\n",
       "      <td>[-50.266857708833854, 39.0, -18.04812532113806...</td>\n",
       "      <td>00:03:35.70</td>\n",
       "      <td>1.0</td>\n",
       "      <td>10009</td>\n",
       "    </tr>\n",
       "    <tr>\n",
       "      <th>11029</th>\n",
       "      <td>[]</td>\n",
       "      <td>{'group': None, 'trackable_object': None}</td>\n",
       "      <td>11029</td>\n",
       "      <td>[]</td>\n",
       "      <td>00:18:21.90</td>\n",
       "      <td>1.0</td>\n",
       "      <td>10009</td>\n",
       "    </tr>\n",
       "  </tbody>\n",
       "</table>\n",
       "</div>"
      ],
      "text/plain": [
       "                                                    data  \\\n",
       "23675  [{'track_id': 512, 'trackable_object': 512, 'i...   \n",
       "2167   [{'track_id': 512, 'trackable_object': 512, 'i...   \n",
       "11029                                                 []   \n",
       "\n",
       "                                             possession  frame  \\\n",
       "23675         {'group': None, 'trackable_object': None}  23675   \n",
       "2167   {'group': 'away team', 'trackable_object': None}   2167   \n",
       "11029         {'group': None, 'trackable_object': None}  11029   \n",
       "\n",
       "                                image_corners_projection    timestamp  period  \\\n",
       "23675                                                 []  00:39:26.50     1.0   \n",
       "2167   [-50.266857708833854, 39.0, -18.04812532113806...  00:03:35.70     1.0   \n",
       "11029                                                 []  00:18:21.90     1.0   \n",
       "\n",
       "      game_id  \n",
       "23675   10009  \n",
       "2167    10009  \n",
       "11029   10009  "
      ]
     },
     "execution_count": 52,
     "metadata": {},
     "output_type": "execute_result"
    }
   ],
   "source": [
    "pandas_tracking_df = pd.DataFrame(tracking)\n",
    "pandas_tracking_df[\"game_id\"] = tracking_game_id\n",
    "\n",
    "pandas_tracking_df.sample(3)"
   ]
  },
  {
   "cell_type": "code",
   "execution_count": 15,
   "id": "0108f940-752b-4c1f-acb4-44ed6d135001",
   "metadata": {},
   "outputs": [
    {
     "data": {
      "text/plain": [
       "(57748, 7)"
      ]
     },
     "execution_count": 15,
     "metadata": {},
     "output_type": "execute_result"
    }
   ],
   "source": [
    "pandas_tracking_df.shape"
   ]
  },
  {
   "cell_type": "markdown",
   "id": "dc5d3041-a07a-42af-9ded-1c2c52185ce7",
   "metadata": {},
   "source": [
    "Filter rows where there is empty data"
   ]
  },
  {
   "cell_type": "code",
   "execution_count": 50,
   "id": "6e0ab848-ce90-44db-8026-75753032a23a",
   "metadata": {},
   "outputs": [
    {
     "data": {
      "text/plain": [
       "(43503, 6)"
      ]
     },
     "execution_count": 50,
     "metadata": {},
     "output_type": "execute_result"
    }
   ],
   "source": [
    "# Filter rows where there is no tracking data\n",
    "pandas_tracking_df = pandas_tracking_df[pandas_tracking_df[\"data\"].apply(lambda x: len(x)) > 0]\n",
    "\n",
    "pandas_tracking_df.shape"
   ]
  },
  {
   "cell_type": "code",
   "execution_count": 19,
   "id": "4ada73c2-9f4b-4115-8019-f493c125cbef",
   "metadata": {},
   "outputs": [
    {
     "data": {
      "text/html": [
       "<div>\n",
       "<style scoped>\n",
       "    .dataframe tbody tr th:only-of-type {\n",
       "        vertical-align: middle;\n",
       "    }\n",
       "\n",
       "    .dataframe tbody tr th {\n",
       "        vertical-align: top;\n",
       "    }\n",
       "\n",
       "    .dataframe thead th {\n",
       "        text-align: right;\n",
       "    }\n",
       "</style>\n",
       "<table border=\"1\" class=\"dataframe\">\n",
       "  <thead>\n",
       "    <tr style=\"text-align: right;\">\n",
       "      <th></th>\n",
       "      <th>data</th>\n",
       "      <th>possession</th>\n",
       "      <th>frame</th>\n",
       "      <th>image_corners_projection</th>\n",
       "      <th>timestamp</th>\n",
       "      <th>period</th>\n",
       "      <th>game_id</th>\n",
       "    </tr>\n",
       "  </thead>\n",
       "  <tbody>\n",
       "    <tr>\n",
       "      <th>10</th>\n",
       "      <td>[{'track_id': 11565, 'trackable_object': 11565...</td>\n",
       "      <td>{'group': None, 'trackable_object': None}</td>\n",
       "      <td>10</td>\n",
       "      <td>[]</td>\n",
       "      <td>00:00:00.00</td>\n",
       "      <td>1.0</td>\n",
       "      <td>10000</td>\n",
       "    </tr>\n",
       "    <tr>\n",
       "      <th>11</th>\n",
       "      <td>[{'track_id': 11565, 'trackable_object': 11565...</td>\n",
       "      <td>{'group': None, 'trackable_object': None}</td>\n",
       "      <td>11</td>\n",
       "      <td>[]</td>\n",
       "      <td>00:00:00.10</td>\n",
       "      <td>1.0</td>\n",
       "      <td>10000</td>\n",
       "    </tr>\n",
       "    <tr>\n",
       "      <th>12</th>\n",
       "      <td>[{'track_id': 11565, 'trackable_object': 11565...</td>\n",
       "      <td>{'group': None, 'trackable_object': None}</td>\n",
       "      <td>12</td>\n",
       "      <td>[]</td>\n",
       "      <td>00:00:00.20</td>\n",
       "      <td>1.0</td>\n",
       "      <td>10000</td>\n",
       "    </tr>\n",
       "    <tr>\n",
       "      <th>13</th>\n",
       "      <td>[{'track_id': 11565, 'trackable_object': 11565...</td>\n",
       "      <td>{'group': None, 'trackable_object': None}</td>\n",
       "      <td>13</td>\n",
       "      <td>[]</td>\n",
       "      <td>00:00:00.30</td>\n",
       "      <td>1.0</td>\n",
       "      <td>10000</td>\n",
       "    </tr>\n",
       "    <tr>\n",
       "      <th>14</th>\n",
       "      <td>[{'track_id': 11565, 'trackable_object': 11565...</td>\n",
       "      <td>{'group': None, 'trackable_object': None}</td>\n",
       "      <td>14</td>\n",
       "      <td>[]</td>\n",
       "      <td>00:00:00.40</td>\n",
       "      <td>1.0</td>\n",
       "      <td>10000</td>\n",
       "    </tr>\n",
       "  </tbody>\n",
       "</table>\n",
       "</div>"
      ],
      "text/plain": [
       "                                                 data  \\\n",
       "10  [{'track_id': 11565, 'trackable_object': 11565...   \n",
       "11  [{'track_id': 11565, 'trackable_object': 11565...   \n",
       "12  [{'track_id': 11565, 'trackable_object': 11565...   \n",
       "13  [{'track_id': 11565, 'trackable_object': 11565...   \n",
       "14  [{'track_id': 11565, 'trackable_object': 11565...   \n",
       "\n",
       "                                   possession  frame image_corners_projection  \\\n",
       "10  {'group': None, 'trackable_object': None}     10                       []   \n",
       "11  {'group': None, 'trackable_object': None}     11                       []   \n",
       "12  {'group': None, 'trackable_object': None}     12                       []   \n",
       "13  {'group': None, 'trackable_object': None}     13                       []   \n",
       "14  {'group': None, 'trackable_object': None}     14                       []   \n",
       "\n",
       "      timestamp  period game_id  \n",
       "10  00:00:00.00     1.0   10000  \n",
       "11  00:00:00.10     1.0   10000  \n",
       "12  00:00:00.20     1.0   10000  \n",
       "13  00:00:00.30     1.0   10000  \n",
       "14  00:00:00.40     1.0   10000  "
      ]
     },
     "execution_count": 19,
     "metadata": {},
     "output_type": "execute_result"
    }
   ],
   "source": [
    "pandas_tracking_df.head(5)"
   ]
  },
  {
   "cell_type": "markdown",
   "id": "2948e165-20f3-4d67-80dd-e7453d31c1d2",
   "metadata": {},
   "source": [
    "Split the dataframe into 3 different entities which might translate into three SQL tables: Frame, Posession, Track"
   ]
  },
  {
   "cell_type": "code",
   "execution_count": 27,
   "id": "71db0099-968e-4bc1-9073-769f71a34025",
   "metadata": {},
   "outputs": [
    {
     "data": {
      "text/html": [
       "<div>\n",
       "<style scoped>\n",
       "    .dataframe tbody tr th:only-of-type {\n",
       "        vertical-align: middle;\n",
       "    }\n",
       "\n",
       "    .dataframe tbody tr th {\n",
       "        vertical-align: top;\n",
       "    }\n",
       "\n",
       "    .dataframe thead th {\n",
       "        text-align: right;\n",
       "    }\n",
       "</style>\n",
       "<table border=\"1\" class=\"dataframe\">\n",
       "  <thead>\n",
       "    <tr style=\"text-align: right;\">\n",
       "      <th></th>\n",
       "      <th>game_id</th>\n",
       "      <th>data</th>\n",
       "      <th>frame</th>\n",
       "    </tr>\n",
       "  </thead>\n",
       "  <tbody>\n",
       "    <tr>\n",
       "      <th>29240</th>\n",
       "      <td>10000</td>\n",
       "      <td>[{'track_id': 11565, 'trackable_object': 11565...</td>\n",
       "      <td>29240</td>\n",
       "    </tr>\n",
       "    <tr>\n",
       "      <th>22011</th>\n",
       "      <td>10000</td>\n",
       "      <td>[{'track_id': 11565, 'trackable_object': 11565...</td>\n",
       "      <td>22011</td>\n",
       "    </tr>\n",
       "  </tbody>\n",
       "</table>\n",
       "</div>"
      ],
      "text/plain": [
       "      game_id                                               data  frame\n",
       "29240   10000  [{'track_id': 11565, 'trackable_object': 11565...  29240\n",
       "22011   10000  [{'track_id': 11565, 'trackable_object': 11565...  22011"
      ]
     },
     "execution_count": 27,
     "metadata": {},
     "output_type": "execute_result"
    }
   ],
   "source": [
    "track_df = pandas_tracking_df[[\"game_id\", \"data\", \"frame\"]]\n",
    "\n",
    "track_df.sample(2)"
   ]
  },
  {
   "cell_type": "code",
   "execution_count": 28,
   "id": "551b1f2e-efb4-4e83-a772-618087a75b50",
   "metadata": {},
   "outputs": [
    {
     "data": {
      "text/plain": [
       "(45697, 3)"
      ]
     },
     "execution_count": 28,
     "metadata": {},
     "output_type": "execute_result"
    }
   ],
   "source": [
    "track_df.shape"
   ]
  },
  {
   "cell_type": "code",
   "execution_count": 67,
   "id": "3629901c-d9e4-4199-b536-4741b9e02265",
   "metadata": {},
   "outputs": [
    {
     "data": {
      "text/html": [
       "<div>\n",
       "<style scoped>\n",
       "    .dataframe tbody tr th:only-of-type {\n",
       "        vertical-align: middle;\n",
       "    }\n",
       "\n",
       "    .dataframe tbody tr th {\n",
       "        vertical-align: top;\n",
       "    }\n",
       "\n",
       "    .dataframe thead th {\n",
       "        text-align: right;\n",
       "    }\n",
       "</style>\n",
       "<table border=\"1\" class=\"dataframe\">\n",
       "  <thead>\n",
       "    <tr style=\"text-align: right;\">\n",
       "      <th></th>\n",
       "      <th>game_id</th>\n",
       "      <th>group</th>\n",
       "      <th>trackable_object</th>\n",
       "    </tr>\n",
       "  </thead>\n",
       "  <tbody>\n",
       "    <tr>\n",
       "      <th>928</th>\n",
       "      <td>10009</td>\n",
       "      <td>None</td>\n",
       "      <td>&lt;NA&gt;</td>\n",
       "    </tr>\n",
       "    <tr>\n",
       "      <th>54103</th>\n",
       "      <td>10009</td>\n",
       "      <td>away team</td>\n",
       "      <td>&lt;NA&gt;</td>\n",
       "    </tr>\n",
       "    <tr>\n",
       "      <th>41709</th>\n",
       "      <td>10009</td>\n",
       "      <td>home team</td>\n",
       "      <td>&lt;NA&gt;</td>\n",
       "    </tr>\n",
       "    <tr>\n",
       "      <th>10128</th>\n",
       "      <td>10009</td>\n",
       "      <td>home team</td>\n",
       "      <td>8259</td>\n",
       "    </tr>\n",
       "    <tr>\n",
       "      <th>26511</th>\n",
       "      <td>10009</td>\n",
       "      <td>home team</td>\n",
       "      <td>&lt;NA&gt;</td>\n",
       "    </tr>\n",
       "    <tr>\n",
       "      <th>26120</th>\n",
       "      <td>10009</td>\n",
       "      <td>away team</td>\n",
       "      <td>&lt;NA&gt;</td>\n",
       "    </tr>\n",
       "    <tr>\n",
       "      <th>21014</th>\n",
       "      <td>10009</td>\n",
       "      <td>None</td>\n",
       "      <td>&lt;NA&gt;</td>\n",
       "    </tr>\n",
       "    <tr>\n",
       "      <th>43618</th>\n",
       "      <td>10009</td>\n",
       "      <td>None</td>\n",
       "      <td>&lt;NA&gt;</td>\n",
       "    </tr>\n",
       "    <tr>\n",
       "      <th>27851</th>\n",
       "      <td>10009</td>\n",
       "      <td>home team</td>\n",
       "      <td>&lt;NA&gt;</td>\n",
       "    </tr>\n",
       "    <tr>\n",
       "      <th>51910</th>\n",
       "      <td>10009</td>\n",
       "      <td>None</td>\n",
       "      <td>&lt;NA&gt;</td>\n",
       "    </tr>\n",
       "  </tbody>\n",
       "</table>\n",
       "</div>"
      ],
      "text/plain": [
       "      game_id      group trackable_object\n",
       "928     10009       None             <NA>\n",
       "54103   10009  away team             <NA>\n",
       "41709   10009  home team             <NA>\n",
       "10128   10009  home team             8259\n",
       "26511   10009  home team             <NA>\n",
       "26120   10009  away team             <NA>\n",
       "21014   10009       None             <NA>\n",
       "43618   10009       None             <NA>\n",
       "27851   10009  home team             <NA>\n",
       "51910   10009       None             <NA>"
      ]
     },
     "execution_count": 67,
     "metadata": {},
     "output_type": "execute_result"
    }
   ],
   "source": [
    "possession_df = pandas_tracking_df[[\"game_id\", \"possession\"]]\n",
    "possession_df = possession_df.join(pd.json_normalize(possession_df.pop(\"possession\")))\n",
    "possession_df['trackable_object'] = possession_df['trackable_object'].astype('Int64').astype(str)\n",
    "possession_df.sample(10)"
   ]
  },
  {
   "cell_type": "code",
   "execution_count": 68,
   "id": "018d7402-25b7-4598-aaff-83c69ce5b631",
   "metadata": {},
   "outputs": [
    {
     "data": {
      "text/plain": [
       "game_id             object\n",
       "group               object\n",
       "trackable_object    object\n",
       "dtype: object"
      ]
     },
     "execution_count": 68,
     "metadata": {},
     "output_type": "execute_result"
    }
   ],
   "source": [
    "possession_df.dtypes"
   ]
  },
  {
   "cell_type": "code",
   "execution_count": 30,
   "id": "60930e12-97e2-426b-bb76-80201e175d84",
   "metadata": {},
   "outputs": [
    {
     "data": {
      "text/plain": [
       "(45697, 2)"
      ]
     },
     "execution_count": 30,
     "metadata": {},
     "output_type": "execute_result"
    }
   ],
   "source": [
    "possession_df.shape"
   ]
  },
  {
   "cell_type": "code",
   "execution_count": 164,
   "id": "d49e1da8-82f7-42f8-9aa6-231b651602e8",
   "metadata": {},
   "outputs": [
    {
     "name": "stderr",
     "output_type": "stream",
     "text": [
      "/tmp/ipykernel_19981/447665661.py:5: UserWarning: Could not infer format, so each element will be parsed individually, falling back to `dateutil`. To ensure parsing is consistent and as-expected, please specify a format.\n",
      "  frame_df['timestamp'] = pd.to_datetime(frame_df['timestamp'])\n"
     ]
    },
    {
     "data": {
      "text/html": [
       "<div>\n",
       "<style scoped>\n",
       "    .dataframe tbody tr th:only-of-type {\n",
       "        vertical-align: middle;\n",
       "    }\n",
       "\n",
       "    .dataframe tbody tr th {\n",
       "        vertical-align: top;\n",
       "    }\n",
       "\n",
       "    .dataframe thead th {\n",
       "        text-align: right;\n",
       "    }\n",
       "</style>\n",
       "<table border=\"1\" class=\"dataframe\">\n",
       "  <thead>\n",
       "    <tr style=\"text-align: right;\">\n",
       "      <th></th>\n",
       "      <th>game_id</th>\n",
       "      <th>frame</th>\n",
       "      <th>image_corners_projection</th>\n",
       "      <th>period</th>\n",
       "      <th>timestamp_in_seconds</th>\n",
       "    </tr>\n",
       "  </thead>\n",
       "  <tbody>\n",
       "    <tr>\n",
       "      <th>25322</th>\n",
       "      <td>10009</td>\n",
       "      <td>25322</td>\n",
       "      <td>[39.62581180168092, 39.0, 19.646419067677787, ...</td>\n",
       "      <td>1</td>\n",
       "      <td>2531</td>\n",
       "    </tr>\n",
       "    <tr>\n",
       "      <th>43121</th>\n",
       "      <td>10009</td>\n",
       "      <td>43121</td>\n",
       "      <td>[-21.894645863958505, 39.0, -10.25114134262234...</td>\n",
       "      <td>2</td>\n",
       "      <td>4236</td>\n",
       "    </tr>\n",
       "  </tbody>\n",
       "</table>\n",
       "</div>"
      ],
      "text/plain": [
       "      game_id  frame                           image_corners_projection  \\\n",
       "25322   10009  25322  [39.62581180168092, 39.0, 19.646419067677787, ...   \n",
       "43121   10009  43121  [-21.894645863958505, 39.0, -10.25114134262234...   \n",
       "\n",
       "       period  timestamp_in_seconds  \n",
       "25322       1                  2531  \n",
       "43121       2                  4236  "
      ]
     },
     "execution_count": 164,
     "metadata": {},
     "output_type": "execute_result"
    }
   ],
   "source": [
    "frame_df = pandas_tracking_df[[\"game_id\", \"frame\", \"image_corners_projection\", \"timestamp\", \"period\"]]\n",
    "# df['time'] = pd.to_datetime(df['time'])\n",
    "# df['time_in_seconds'] = df['time'].dt.hour * 3600 + df['time'].dt.minute * 60 + df['time'].dt.second + df['time'].dt.microsecond / 1e6\n",
    "frame_df = frame_df.dropna(subset=['timestamp'])\n",
    "frame_df['timestamp'] = pd.to_datetime(frame_df['timestamp'])\n",
    "frame_df['timestamp_in_seconds'] = frame_df['timestamp'].dt.hour * 3600 + frame_df['timestamp'].dt.minute * 60 + frame_df['timestamp'].dt.second\n",
    "frame_df['timestamp_in_seconds'] = frame_df['timestamp_in_seconds'].astype(int)\n",
    "frame_df = frame_df.drop(['timestamp'], axis=1)\n",
    "frame_df[\"period\"] = frame_df[\"period\"].astype(int)\n",
    "\n",
    "frame_df.sample(2)"
   ]
  },
  {
   "cell_type": "code",
   "execution_count": 156,
   "id": "7d7e16b4-c7eb-406f-9bf5-7fe9e3a1f97a",
   "metadata": {},
   "outputs": [
    {
     "data": {
      "text/html": [
       "<div>\n",
       "<style scoped>\n",
       "    .dataframe tbody tr th:only-of-type {\n",
       "        vertical-align: middle;\n",
       "    }\n",
       "\n",
       "    .dataframe tbody tr th {\n",
       "        vertical-align: top;\n",
       "    }\n",
       "\n",
       "    .dataframe thead th {\n",
       "        text-align: right;\n",
       "    }\n",
       "</style>\n",
       "<table border=\"1\" class=\"dataframe\">\n",
       "  <thead>\n",
       "    <tr style=\"text-align: right;\">\n",
       "      <th></th>\n",
       "      <th>game_id</th>\n",
       "      <th>frame</th>\n",
       "      <th>image_corners_projection</th>\n",
       "      <th>timestamp</th>\n",
       "      <th>period</th>\n",
       "      <th>timestamp_in_seconds</th>\n",
       "    </tr>\n",
       "  </thead>\n",
       "  <tbody>\n",
       "    <tr>\n",
       "      <th>0</th>\n",
       "      <td>10009</td>\n",
       "      <td>0</td>\n",
       "      <td>[]</td>\n",
       "      <td>NaT</td>\n",
       "      <td>NaN</td>\n",
       "      <td>NaN</td>\n",
       "    </tr>\n",
       "    <tr>\n",
       "      <th>1</th>\n",
       "      <td>10009</td>\n",
       "      <td>1</td>\n",
       "      <td>[]</td>\n",
       "      <td>NaT</td>\n",
       "      <td>NaN</td>\n",
       "      <td>NaN</td>\n",
       "    </tr>\n",
       "    <tr>\n",
       "      <th>2</th>\n",
       "      <td>10009</td>\n",
       "      <td>2</td>\n",
       "      <td>[]</td>\n",
       "      <td>NaT</td>\n",
       "      <td>NaN</td>\n",
       "      <td>NaN</td>\n",
       "    </tr>\n",
       "    <tr>\n",
       "      <th>3</th>\n",
       "      <td>10009</td>\n",
       "      <td>3</td>\n",
       "      <td>[]</td>\n",
       "      <td>NaT</td>\n",
       "      <td>NaN</td>\n",
       "      <td>NaN</td>\n",
       "    </tr>\n",
       "    <tr>\n",
       "      <th>4</th>\n",
       "      <td>10009</td>\n",
       "      <td>4</td>\n",
       "      <td>[]</td>\n",
       "      <td>NaT</td>\n",
       "      <td>NaN</td>\n",
       "      <td>NaN</td>\n",
       "    </tr>\n",
       "    <tr>\n",
       "      <th>5</th>\n",
       "      <td>10009</td>\n",
       "      <td>5</td>\n",
       "      <td>[]</td>\n",
       "      <td>NaT</td>\n",
       "      <td>NaN</td>\n",
       "      <td>NaN</td>\n",
       "    </tr>\n",
       "    <tr>\n",
       "      <th>6</th>\n",
       "      <td>10009</td>\n",
       "      <td>6</td>\n",
       "      <td>[]</td>\n",
       "      <td>NaT</td>\n",
       "      <td>NaN</td>\n",
       "      <td>NaN</td>\n",
       "    </tr>\n",
       "    <tr>\n",
       "      <th>7</th>\n",
       "      <td>10009</td>\n",
       "      <td>7</td>\n",
       "      <td>[]</td>\n",
       "      <td>NaT</td>\n",
       "      <td>NaN</td>\n",
       "      <td>NaN</td>\n",
       "    </tr>\n",
       "    <tr>\n",
       "      <th>8</th>\n",
       "      <td>10009</td>\n",
       "      <td>8</td>\n",
       "      <td>[]</td>\n",
       "      <td>NaT</td>\n",
       "      <td>NaN</td>\n",
       "      <td>NaN</td>\n",
       "    </tr>\n",
       "    <tr>\n",
       "      <th>9</th>\n",
       "      <td>10009</td>\n",
       "      <td>9</td>\n",
       "      <td>[]</td>\n",
       "      <td>NaT</td>\n",
       "      <td>NaN</td>\n",
       "      <td>NaN</td>\n",
       "    </tr>\n",
       "    <tr>\n",
       "      <th>27751</th>\n",
       "      <td>10009</td>\n",
       "      <td>27751</td>\n",
       "      <td>[]</td>\n",
       "      <td>NaT</td>\n",
       "      <td>NaN</td>\n",
       "      <td>NaN</td>\n",
       "    </tr>\n",
       "    <tr>\n",
       "      <th>27752</th>\n",
       "      <td>10009</td>\n",
       "      <td>27752</td>\n",
       "      <td>[]</td>\n",
       "      <td>NaT</td>\n",
       "      <td>NaN</td>\n",
       "      <td>NaN</td>\n",
       "    </tr>\n",
       "    <tr>\n",
       "      <th>27753</th>\n",
       "      <td>10009</td>\n",
       "      <td>27753</td>\n",
       "      <td>[]</td>\n",
       "      <td>NaT</td>\n",
       "      <td>NaN</td>\n",
       "      <td>NaN</td>\n",
       "    </tr>\n",
       "    <tr>\n",
       "      <th>27754</th>\n",
       "      <td>10009</td>\n",
       "      <td>27754</td>\n",
       "      <td>[]</td>\n",
       "      <td>NaT</td>\n",
       "      <td>NaN</td>\n",
       "      <td>NaN</td>\n",
       "    </tr>\n",
       "    <tr>\n",
       "      <th>27755</th>\n",
       "      <td>10009</td>\n",
       "      <td>27755</td>\n",
       "      <td>[]</td>\n",
       "      <td>NaT</td>\n",
       "      <td>NaN</td>\n",
       "      <td>NaN</td>\n",
       "    </tr>\n",
       "    <tr>\n",
       "      <th>27756</th>\n",
       "      <td>10009</td>\n",
       "      <td>27756</td>\n",
       "      <td>[]</td>\n",
       "      <td>NaT</td>\n",
       "      <td>NaN</td>\n",
       "      <td>NaN</td>\n",
       "    </tr>\n",
       "    <tr>\n",
       "      <th>27757</th>\n",
       "      <td>10009</td>\n",
       "      <td>27757</td>\n",
       "      <td>[]</td>\n",
       "      <td>NaT</td>\n",
       "      <td>NaN</td>\n",
       "      <td>NaN</td>\n",
       "    </tr>\n",
       "    <tr>\n",
       "      <th>27758</th>\n",
       "      <td>10009</td>\n",
       "      <td>27758</td>\n",
       "      <td>[]</td>\n",
       "      <td>NaT</td>\n",
       "      <td>NaN</td>\n",
       "      <td>NaN</td>\n",
       "    </tr>\n",
       "    <tr>\n",
       "      <th>27759</th>\n",
       "      <td>10009</td>\n",
       "      <td>27759</td>\n",
       "      <td>[]</td>\n",
       "      <td>NaT</td>\n",
       "      <td>NaN</td>\n",
       "      <td>NaN</td>\n",
       "    </tr>\n",
       "  </tbody>\n",
       "</table>\n",
       "</div>"
      ],
      "text/plain": [
       "      game_id  frame image_corners_projection timestamp  period  \\\n",
       "0       10009      0                       []       NaT     NaN   \n",
       "1       10009      1                       []       NaT     NaN   \n",
       "2       10009      2                       []       NaT     NaN   \n",
       "3       10009      3                       []       NaT     NaN   \n",
       "4       10009      4                       []       NaT     NaN   \n",
       "5       10009      5                       []       NaT     NaN   \n",
       "6       10009      6                       []       NaT     NaN   \n",
       "7       10009      7                       []       NaT     NaN   \n",
       "8       10009      8                       []       NaT     NaN   \n",
       "9       10009      9                       []       NaT     NaN   \n",
       "27751   10009  27751                       []       NaT     NaN   \n",
       "27752   10009  27752                       []       NaT     NaN   \n",
       "27753   10009  27753                       []       NaT     NaN   \n",
       "27754   10009  27754                       []       NaT     NaN   \n",
       "27755   10009  27755                       []       NaT     NaN   \n",
       "27756   10009  27756                       []       NaT     NaN   \n",
       "27757   10009  27757                       []       NaT     NaN   \n",
       "27758   10009  27758                       []       NaT     NaN   \n",
       "27759   10009  27759                       []       NaT     NaN   \n",
       "\n",
       "       timestamp_in_seconds  \n",
       "0                       NaN  \n",
       "1                       NaN  \n",
       "2                       NaN  \n",
       "3                       NaN  \n",
       "4                       NaN  \n",
       "5                       NaN  \n",
       "6                       NaN  \n",
       "7                       NaN  \n",
       "8                       NaN  \n",
       "9                       NaN  \n",
       "27751                   NaN  \n",
       "27752                   NaN  \n",
       "27753                   NaN  \n",
       "27754                   NaN  \n",
       "27755                   NaN  \n",
       "27756                   NaN  \n",
       "27757                   NaN  \n",
       "27758                   NaN  \n",
       "27759                   NaN  "
      ]
     },
     "execution_count": 156,
     "metadata": {},
     "output_type": "execute_result"
    }
   ],
   "source": [
    "frame_df[frame_df['timestamp_in_seconds'].isna()]"
   ]
  },
  {
   "cell_type": "code",
   "execution_count": 168,
   "id": "1a0268c4-e25d-4a8a-98ca-061ceb5b8be9",
   "metadata": {},
   "outputs": [
    {
     "data": {
      "text/html": [
       "<div>\n",
       "<style scoped>\n",
       "    .dataframe tbody tr th:only-of-type {\n",
       "        vertical-align: middle;\n",
       "    }\n",
       "\n",
       "    .dataframe tbody tr th {\n",
       "        vertical-align: top;\n",
       "    }\n",
       "\n",
       "    .dataframe thead th {\n",
       "        text-align: right;\n",
       "    }\n",
       "</style>\n",
       "<table border=\"1\" class=\"dataframe\">\n",
       "  <thead>\n",
       "    <tr style=\"text-align: right;\">\n",
       "      <th></th>\n",
       "      <th>game_id</th>\n",
       "      <th>frame</th>\n",
       "      <th>image_corners_projection</th>\n",
       "      <th>period</th>\n",
       "      <th>timestamp_in_seconds</th>\n",
       "    </tr>\n",
       "  </thead>\n",
       "  <tbody>\n",
       "    <tr>\n",
       "      <th>55680</th>\n",
       "      <td>10009</td>\n",
       "      <td>55680</td>\n",
       "      <td>[]</td>\n",
       "      <td>2</td>\n",
       "      <td>5492</td>\n",
       "    </tr>\n",
       "    <tr>\n",
       "      <th>26036</th>\n",
       "      <td>10009</td>\n",
       "      <td>26036</td>\n",
       "      <td>[-47.1391293561168, 38.99999999999999, -21.320...</td>\n",
       "      <td>1</td>\n",
       "      <td>2602</td>\n",
       "    </tr>\n",
       "  </tbody>\n",
       "</table>\n",
       "</div>"
      ],
      "text/plain": [
       "      game_id  frame                           image_corners_projection  \\\n",
       "55680   10009  55680                                                 []   \n",
       "26036   10009  26036  [-47.1391293561168, 38.99999999999999, -21.320...   \n",
       "\n",
       "       period  timestamp_in_seconds  \n",
       "55680       2                  5492  \n",
       "26036       1                  2602  "
      ]
     },
     "execution_count": 168,
     "metadata": {},
     "output_type": "execute_result"
    }
   ],
   "source": [
    "frame_df.sample(2)"
   ]
  },
  {
   "cell_type": "code",
   "execution_count": 71,
   "id": "09201175-8433-4146-87cd-85c4a6d4ecbc",
   "metadata": {},
   "outputs": [
    {
     "data": {
      "text/plain": [
       "(58140, 5)"
      ]
     },
     "execution_count": 71,
     "metadata": {},
     "output_type": "execute_result"
    }
   ],
   "source": [
    "frame_df.shape"
   ]
  },
  {
   "cell_type": "code",
   "execution_count": 142,
   "id": "d88ed61a-26db-44d6-ba9a-d65c2fc214f2",
   "metadata": {},
   "outputs": [
    {
     "data": {
      "text/plain": [
       "game_id                      object\n",
       "frame                         int64\n",
       "image_corners_projection     object\n",
       "timestamp                    object\n",
       "period                      float64\n",
       "dtype: object"
      ]
     },
     "execution_count": 142,
     "metadata": {},
     "output_type": "execute_result"
    }
   ],
   "source": [
    "frame_df.dtypes"
   ]
  },
  {
   "cell_type": "markdown",
   "id": "ad262f77-ce39-4ad9-9ba5-3e7eaa3636ea",
   "metadata": {},
   "source": [
    "#### Explode/flatten all nested data in Track and Possesion DF"
   ]
  },
  {
   "cell_type": "code",
   "execution_count": 33,
   "id": "e9102bda-bee1-4821-b8b0-960368f28b7a",
   "metadata": {},
   "outputs": [
    {
     "data": {
      "text/html": [
       "<div>\n",
       "<style scoped>\n",
       "    .dataframe tbody tr th:only-of-type {\n",
       "        vertical-align: middle;\n",
       "    }\n",
       "\n",
       "    .dataframe tbody tr th {\n",
       "        vertical-align: top;\n",
       "    }\n",
       "\n",
       "    .dataframe thead th {\n",
       "        text-align: right;\n",
       "    }\n",
       "</style>\n",
       "<table border=\"1\" class=\"dataframe\">\n",
       "  <thead>\n",
       "    <tr style=\"text-align: right;\">\n",
       "      <th></th>\n",
       "      <th>game_id</th>\n",
       "      <th>data</th>\n",
       "      <th>frame</th>\n",
       "    </tr>\n",
       "  </thead>\n",
       "  <tbody>\n",
       "    <tr>\n",
       "      <th>936611</th>\n",
       "      <td>10000</td>\n",
       "      <td>{'track_id': 3847, 'trackable_object': 3847, '...</td>\n",
       "      <td>51756</td>\n",
       "    </tr>\n",
       "    <tr>\n",
       "      <th>756570</th>\n",
       "      <td>10000</td>\n",
       "      <td>{'track_id': 2776, 'trackable_object': 2776, '...</td>\n",
       "      <td>42680</td>\n",
       "    </tr>\n",
       "  </tbody>\n",
       "</table>\n",
       "</div>"
      ],
      "text/plain": [
       "       game_id                                               data  frame\n",
       "936611   10000  {'track_id': 3847, 'trackable_object': 3847, '...  51756\n",
       "756570   10000  {'track_id': 2776, 'trackable_object': 2776, '...  42680"
      ]
     },
     "execution_count": 33,
     "metadata": {},
     "output_type": "execute_result"
    }
   ],
   "source": [
    "track_df = track_df.explode('data').reset_index(drop=True)\n",
    "\n",
    "track_df.sample(2)"
   ]
  },
  {
   "cell_type": "code",
   "execution_count": 34,
   "id": "382dadf0-c097-4b34-9747-aa4148b20487",
   "metadata": {},
   "outputs": [
    {
     "data": {
      "text/plain": [
       "(1051031, 3)"
      ]
     },
     "execution_count": 34,
     "metadata": {},
     "output_type": "execute_result"
    }
   ],
   "source": [
    "track_df.shape"
   ]
  },
  {
   "cell_type": "code",
   "execution_count": 35,
   "id": "51598797-c89b-444f-a4c6-d8ac65b5f656",
   "metadata": {},
   "outputs": [
    {
     "data": {
      "text/html": [
       "<div>\n",
       "<style scoped>\n",
       "    .dataframe tbody tr th:only-of-type {\n",
       "        vertical-align: middle;\n",
       "    }\n",
       "\n",
       "    .dataframe tbody tr th {\n",
       "        vertical-align: top;\n",
       "    }\n",
       "\n",
       "    .dataframe thead th {\n",
       "        text-align: right;\n",
       "    }\n",
       "</style>\n",
       "<table border=\"1\" class=\"dataframe\">\n",
       "  <thead>\n",
       "    <tr style=\"text-align: right;\">\n",
       "      <th></th>\n",
       "      <th>game_id</th>\n",
       "      <th>frame</th>\n",
       "      <th>track_id</th>\n",
       "      <th>trackable_object</th>\n",
       "      <th>is_visible</th>\n",
       "      <th>x</th>\n",
       "      <th>y</th>\n",
       "      <th>z</th>\n",
       "    </tr>\n",
       "  </thead>\n",
       "  <tbody>\n",
       "    <tr>\n",
       "      <th>827075</th>\n",
       "      <td>10000</td>\n",
       "      <td>45856</td>\n",
       "      <td>18726</td>\n",
       "      <td>18726</td>\n",
       "      <td>True</td>\n",
       "      <td>-1.97</td>\n",
       "      <td>-18.53</td>\n",
       "      <td>NaN</td>\n",
       "    </tr>\n",
       "    <tr>\n",
       "      <th>13371</th>\n",
       "      <td>10000</td>\n",
       "      <td>591</td>\n",
       "      <td>2776</td>\n",
       "      <td>2776</td>\n",
       "      <td>False</td>\n",
       "      <td>0.14</td>\n",
       "      <td>26.01</td>\n",
       "      <td>NaN</td>\n",
       "    </tr>\n",
       "  </tbody>\n",
       "</table>\n",
       "</div>"
      ],
      "text/plain": [
       "       game_id  frame  track_id  trackable_object  is_visible     x      y   z\n",
       "827075   10000  45856     18726             18726        True -1.97 -18.53 NaN\n",
       "13371    10000    591      2776              2776       False  0.14  26.01 NaN"
      ]
     },
     "execution_count": 35,
     "metadata": {},
     "output_type": "execute_result"
    }
   ],
   "source": [
    "track_df = track_df.join(pd.json_normalize(track_df.pop(\"data\")))\n",
    "\n",
    "# df = df.join(pd.json_normalize(df.pop('item_order')))\n",
    "\n",
    "track_df.sample(2)"
   ]
  },
  {
   "cell_type": "code",
   "execution_count": 36,
   "id": "a9e7dc84-ab9f-44e2-a804-149f2ca16975",
   "metadata": {},
   "outputs": [
    {
     "data": {
      "text/plain": [
       "(1051031, 8)"
      ]
     },
     "execution_count": 36,
     "metadata": {},
     "output_type": "execute_result"
    }
   ],
   "source": [
    "track_df.shape"
   ]
  },
  {
   "cell_type": "code",
   "execution_count": 61,
   "id": "a2d0f604-873c-433c-b908-5b61e5f01101",
   "metadata": {},
   "outputs": [
    {
     "data": {
      "text/plain": [
       "game_id              object\n",
       "frame                 int64\n",
       "track_id              int64\n",
       "trackable_object      int64\n",
       "is_visible             bool\n",
       "x                   float64\n",
       "y                   float64\n",
       "z                   float64\n",
       "dtype: object"
      ]
     },
     "execution_count": 61,
     "metadata": {},
     "output_type": "execute_result"
    }
   ],
   "source": [
    "track_df.dtypes"
   ]
  },
  {
   "cell_type": "markdown",
   "id": "0c7b474b-b1ed-4820-90a7-8492c0978d55",
   "metadata": {},
   "source": [
    "# Load"
   ]
  },
  {
   "cell_type": "markdown",
   "id": "fbb63738-5712-4bd3-9881-3b53ca8f6cf9",
   "metadata": {},
   "source": [
    "## Parquet"
   ]
  },
  {
   "cell_type": "markdown",
   "id": "b169d59e-fdc9-4781-b4bd-73ff4fe20d71",
   "metadata": {},
   "source": [
    "Load dataframe into parquet files."
   ]
  },
  {
   "cell_type": "code",
   "execution_count": 182,
   "id": "fced63b7-a3b8-4274-a3a6-899356facb8f",
   "metadata": {},
   "outputs": [
    {
     "ename": "FileNotFoundError",
     "evalue": "track.parquet",
     "output_type": "error",
     "traceback": [
      "\u001b[0;31m---------------------------------------------------------------------------\u001b[0m",
      "\u001b[0;31mFileNotFoundError\u001b[0m                         Traceback (most recent call last)",
      "Cell \u001b[0;32mIn[182], line 1\u001b[0m\n\u001b[0;32m----> 1\u001b[0m \u001b[43mtrack_df\u001b[49m\u001b[38;5;241;43m.\u001b[39;49m\u001b[43mto_parquet\u001b[49m\u001b[43m(\u001b[49m\u001b[38;5;124;43m\"\u001b[39;49m\u001b[38;5;124;43mtrack.parquet\u001b[39;49m\u001b[38;5;124;43m\"\u001b[39;49m\u001b[43m,\u001b[49m\u001b[43m \u001b[49m\u001b[43mengine\u001b[49m\u001b[38;5;241;43m=\u001b[39;49m\u001b[38;5;124;43m\"\u001b[39;49m\u001b[38;5;124;43mfastparquet\u001b[39;49m\u001b[38;5;124;43m\"\u001b[39;49m\u001b[43m,\u001b[49m\u001b[43m \u001b[49m\u001b[43mappend\u001b[49m\u001b[38;5;241;43m=\u001b[39;49m\u001b[38;5;28;43;01mTrue\u001b[39;49;00m\u001b[43m)\u001b[49m\n",
      "File \u001b[0;32m~/.pyenv/versions/3.10.12/lib/python3.10/site-packages/pandas/core/frame.py:2970\u001b[0m, in \u001b[0;36mDataFrame.to_parquet\u001b[0;34m(self, path, engine, compression, index, partition_cols, storage_options, **kwargs)\u001b[0m\n\u001b[1;32m   2882\u001b[0m \u001b[38;5;250m\u001b[39m\u001b[38;5;124;03m\"\"\"\u001b[39;00m\n\u001b[1;32m   2883\u001b[0m \u001b[38;5;124;03mWrite a DataFrame to the binary parquet format.\u001b[39;00m\n\u001b[1;32m   2884\u001b[0m \n\u001b[0;32m   (...)\u001b[0m\n\u001b[1;32m   2966\u001b[0m \u001b[38;5;124;03m>>> content = f.read()\u001b[39;00m\n\u001b[1;32m   2967\u001b[0m \u001b[38;5;124;03m\"\"\"\u001b[39;00m\n\u001b[1;32m   2968\u001b[0m \u001b[38;5;28;01mfrom\u001b[39;00m \u001b[38;5;21;01mpandas\u001b[39;00m\u001b[38;5;21;01m.\u001b[39;00m\u001b[38;5;21;01mio\u001b[39;00m\u001b[38;5;21;01m.\u001b[39;00m\u001b[38;5;21;01mparquet\u001b[39;00m \u001b[38;5;28;01mimport\u001b[39;00m to_parquet\n\u001b[0;32m-> 2970\u001b[0m \u001b[38;5;28;01mreturn\u001b[39;00m \u001b[43mto_parquet\u001b[49m\u001b[43m(\u001b[49m\n\u001b[1;32m   2971\u001b[0m \u001b[43m    \u001b[49m\u001b[38;5;28;43mself\u001b[39;49m\u001b[43m,\u001b[49m\n\u001b[1;32m   2972\u001b[0m \u001b[43m    \u001b[49m\u001b[43mpath\u001b[49m\u001b[43m,\u001b[49m\n\u001b[1;32m   2973\u001b[0m \u001b[43m    \u001b[49m\u001b[43mengine\u001b[49m\u001b[43m,\u001b[49m\n\u001b[1;32m   2974\u001b[0m \u001b[43m    \u001b[49m\u001b[43mcompression\u001b[49m\u001b[38;5;241;43m=\u001b[39;49m\u001b[43mcompression\u001b[49m\u001b[43m,\u001b[49m\n\u001b[1;32m   2975\u001b[0m \u001b[43m    \u001b[49m\u001b[43mindex\u001b[49m\u001b[38;5;241;43m=\u001b[39;49m\u001b[43mindex\u001b[49m\u001b[43m,\u001b[49m\n\u001b[1;32m   2976\u001b[0m \u001b[43m    \u001b[49m\u001b[43mpartition_cols\u001b[49m\u001b[38;5;241;43m=\u001b[39;49m\u001b[43mpartition_cols\u001b[49m\u001b[43m,\u001b[49m\n\u001b[1;32m   2977\u001b[0m \u001b[43m    \u001b[49m\u001b[43mstorage_options\u001b[49m\u001b[38;5;241;43m=\u001b[39;49m\u001b[43mstorage_options\u001b[49m\u001b[43m,\u001b[49m\n\u001b[1;32m   2978\u001b[0m \u001b[43m    \u001b[49m\u001b[38;5;241;43m*\u001b[39;49m\u001b[38;5;241;43m*\u001b[39;49m\u001b[43mkwargs\u001b[49m\u001b[43m,\u001b[49m\n\u001b[1;32m   2979\u001b[0m \u001b[43m\u001b[49m\u001b[43m)\u001b[49m\n",
      "File \u001b[0;32m~/.pyenv/versions/3.10.12/lib/python3.10/site-packages/pandas/io/parquet.py:483\u001b[0m, in \u001b[0;36mto_parquet\u001b[0;34m(df, path, engine, compression, index, storage_options, partition_cols, filesystem, **kwargs)\u001b[0m\n\u001b[1;32m    479\u001b[0m impl \u001b[38;5;241m=\u001b[39m get_engine(engine)\n\u001b[1;32m    481\u001b[0m path_or_buf: FilePath \u001b[38;5;241m|\u001b[39m WriteBuffer[\u001b[38;5;28mbytes\u001b[39m] \u001b[38;5;241m=\u001b[39m io\u001b[38;5;241m.\u001b[39mBytesIO() \u001b[38;5;28;01mif\u001b[39;00m path \u001b[38;5;129;01mis\u001b[39;00m \u001b[38;5;28;01mNone\u001b[39;00m \u001b[38;5;28;01melse\u001b[39;00m path\n\u001b[0;32m--> 483\u001b[0m \u001b[43mimpl\u001b[49m\u001b[38;5;241;43m.\u001b[39;49m\u001b[43mwrite\u001b[49m\u001b[43m(\u001b[49m\n\u001b[1;32m    484\u001b[0m \u001b[43m    \u001b[49m\u001b[43mdf\u001b[49m\u001b[43m,\u001b[49m\n\u001b[1;32m    485\u001b[0m \u001b[43m    \u001b[49m\u001b[43mpath_or_buf\u001b[49m\u001b[43m,\u001b[49m\n\u001b[1;32m    486\u001b[0m \u001b[43m    \u001b[49m\u001b[43mcompression\u001b[49m\u001b[38;5;241;43m=\u001b[39;49m\u001b[43mcompression\u001b[49m\u001b[43m,\u001b[49m\n\u001b[1;32m    487\u001b[0m \u001b[43m    \u001b[49m\u001b[43mindex\u001b[49m\u001b[38;5;241;43m=\u001b[39;49m\u001b[43mindex\u001b[49m\u001b[43m,\u001b[49m\n\u001b[1;32m    488\u001b[0m \u001b[43m    \u001b[49m\u001b[43mpartition_cols\u001b[49m\u001b[38;5;241;43m=\u001b[39;49m\u001b[43mpartition_cols\u001b[49m\u001b[43m,\u001b[49m\n\u001b[1;32m    489\u001b[0m \u001b[43m    \u001b[49m\u001b[43mstorage_options\u001b[49m\u001b[38;5;241;43m=\u001b[39;49m\u001b[43mstorage_options\u001b[49m\u001b[43m,\u001b[49m\n\u001b[1;32m    490\u001b[0m \u001b[43m    \u001b[49m\u001b[43mfilesystem\u001b[49m\u001b[38;5;241;43m=\u001b[39;49m\u001b[43mfilesystem\u001b[49m\u001b[43m,\u001b[49m\n\u001b[1;32m    491\u001b[0m \u001b[43m    \u001b[49m\u001b[38;5;241;43m*\u001b[39;49m\u001b[38;5;241;43m*\u001b[39;49m\u001b[43mkwargs\u001b[49m\u001b[43m,\u001b[49m\n\u001b[1;32m    492\u001b[0m \u001b[43m\u001b[49m\u001b[43m)\u001b[49m\n\u001b[1;32m    494\u001b[0m \u001b[38;5;28;01mif\u001b[39;00m path \u001b[38;5;129;01mis\u001b[39;00m \u001b[38;5;28;01mNone\u001b[39;00m:\n\u001b[1;32m    495\u001b[0m     \u001b[38;5;28;01massert\u001b[39;00m \u001b[38;5;28misinstance\u001b[39m(path_or_buf, io\u001b[38;5;241m.\u001b[39mBytesIO)\n",
      "File \u001b[0;32m~/.pyenv/versions/3.10.12/lib/python3.10/site-packages/pandas/io/parquet.py:347\u001b[0m, in \u001b[0;36mFastParquetImpl.write\u001b[0;34m(self, df, path, compression, index, partition_cols, storage_options, filesystem, **kwargs)\u001b[0m\n\u001b[1;32m    342\u001b[0m     \u001b[38;5;28;01mraise\u001b[39;00m \u001b[38;5;167;01mValueError\u001b[39;00m(\n\u001b[1;32m    343\u001b[0m         \u001b[38;5;124m\"\u001b[39m\u001b[38;5;124mstorage_options passed with file object or non-fsspec file path\u001b[39m\u001b[38;5;124m\"\u001b[39m\n\u001b[1;32m    344\u001b[0m     )\n\u001b[1;32m    346\u001b[0m \u001b[38;5;28;01mwith\u001b[39;00m catch_warnings(record\u001b[38;5;241m=\u001b[39m\u001b[38;5;28;01mTrue\u001b[39;00m):\n\u001b[0;32m--> 347\u001b[0m     \u001b[38;5;28;43mself\u001b[39;49m\u001b[38;5;241;43m.\u001b[39;49m\u001b[43mapi\u001b[49m\u001b[38;5;241;43m.\u001b[39;49m\u001b[43mwrite\u001b[49m\u001b[43m(\u001b[49m\n\u001b[1;32m    348\u001b[0m \u001b[43m        \u001b[49m\u001b[43mpath\u001b[49m\u001b[43m,\u001b[49m\n\u001b[1;32m    349\u001b[0m \u001b[43m        \u001b[49m\u001b[43mdf\u001b[49m\u001b[43m,\u001b[49m\n\u001b[1;32m    350\u001b[0m \u001b[43m        \u001b[49m\u001b[43mcompression\u001b[49m\u001b[38;5;241;43m=\u001b[39;49m\u001b[43mcompression\u001b[49m\u001b[43m,\u001b[49m\n\u001b[1;32m    351\u001b[0m \u001b[43m        \u001b[49m\u001b[43mwrite_index\u001b[49m\u001b[38;5;241;43m=\u001b[39;49m\u001b[43mindex\u001b[49m\u001b[43m,\u001b[49m\n\u001b[1;32m    352\u001b[0m \u001b[43m        \u001b[49m\u001b[43mpartition_on\u001b[49m\u001b[38;5;241;43m=\u001b[39;49m\u001b[43mpartition_cols\u001b[49m\u001b[43m,\u001b[49m\n\u001b[1;32m    353\u001b[0m \u001b[43m        \u001b[49m\u001b[38;5;241;43m*\u001b[39;49m\u001b[38;5;241;43m*\u001b[39;49m\u001b[43mkwargs\u001b[49m\u001b[43m,\u001b[49m\n\u001b[1;32m    354\u001b[0m \u001b[43m    \u001b[49m\u001b[43m)\u001b[49m\n",
      "File \u001b[0;32m~/.pyenv/versions/3.10.12/lib/python3.10/site-packages/fastparquet/writer.py:1260\u001b[0m, in \u001b[0;36mwrite\u001b[0;34m(filename, data, row_group_offsets, compression, file_scheme, open_with, mkdirs, has_nulls, write_index, partition_on, fixed_text, append, object_encoding, times, custom_metadata, stats)\u001b[0m\n\u001b[1;32m   1258\u001b[0m     partition_on \u001b[38;5;241m=\u001b[39m [partition_on]\n\u001b[1;32m   1259\u001b[0m \u001b[38;5;28;01mif\u001b[39;00m append:\n\u001b[0;32m-> 1260\u001b[0m     pf \u001b[38;5;241m=\u001b[39m \u001b[43mParquetFile\u001b[49m\u001b[43m(\u001b[49m\u001b[43mfilename\u001b[49m\u001b[43m,\u001b[49m\u001b[43m \u001b[49m\u001b[43mopen_with\u001b[49m\u001b[38;5;241;43m=\u001b[39;49m\u001b[43mopen_with\u001b[49m\u001b[43m)\u001b[49m\n\u001b[1;32m   1261\u001b[0m     \u001b[38;5;28;01mif\u001b[39;00m pf\u001b[38;5;241m.\u001b[39m_get_index():\n\u001b[1;32m   1262\u001b[0m         \u001b[38;5;66;03m# Format dataframe (manage row index).\u001b[39;00m\n\u001b[1;32m   1263\u001b[0m         data \u001b[38;5;241m=\u001b[39m reset_row_idx(data)\n",
      "File \u001b[0;32m~/.pyenv/versions/3.10.12/lib/python3.10/site-packages/fastparquet/api.py:179\u001b[0m, in \u001b[0;36mParquetFile.__init__\u001b[0;34m(self, fn, verify, open_with, root, sep, fs, pandas_nulls, dtypes)\u001b[0m\n\u001b[1;32m    177\u001b[0m         \u001b[38;5;28mself\u001b[39m\u001b[38;5;241m.\u001b[39mfs \u001b[38;5;241m=\u001b[39m fs\n\u001b[1;32m    178\u001b[0m     \u001b[38;5;28;01melse\u001b[39;00m:\n\u001b[0;32m--> 179\u001b[0m         \u001b[38;5;28;01mraise\u001b[39;00m \u001b[38;5;167;01mFileNotFoundError\u001b[39;00m(fn)\n\u001b[1;32m    180\u001b[0m \u001b[38;5;28;01melse\u001b[39;00m:\n\u001b[1;32m    181\u001b[0m     done \u001b[38;5;241m=\u001b[39m \u001b[38;5;28;01mFalse\u001b[39;00m\n",
      "\u001b[0;31mFileNotFoundError\u001b[0m: track.parquet"
     ]
    }
   ],
   "source": [
    "track_df.to_parquet(\"track.parquet\", engine=\"fastparquet\", append=True)"
   ]
  },
  {
   "cell_type": "markdown",
   "id": "2b2ac4e4-eac2-49d6-a5dd-3ac5a32dd34a",
   "metadata": {},
   "source": [
    "Extract the data back to pandas dataframe for quick sanity check"
   ]
  },
  {
   "cell_type": "code",
   "execution_count": 41,
   "id": "6b337cba-8da6-4773-99e5-f60ad5e08a6f",
   "metadata": {},
   "outputs": [
    {
     "data": {
      "text/plain": [
       "(1051031, 8)"
      ]
     },
     "execution_count": 41,
     "metadata": {},
     "output_type": "execute_result"
    }
   ],
   "source": [
    "test_track_df = pd.read_parquet(\"track.parquet\")\n",
    "\n",
    "test_track_df.shape"
   ]
  },
  {
   "cell_type": "code",
   "execution_count": 42,
   "id": "f7293c24-e7c7-4934-9e3b-cccce0985ac3",
   "metadata": {},
   "outputs": [
    {
     "data": {
      "text/html": [
       "<div>\n",
       "<style scoped>\n",
       "    .dataframe tbody tr th:only-of-type {\n",
       "        vertical-align: middle;\n",
       "    }\n",
       "\n",
       "    .dataframe tbody tr th {\n",
       "        vertical-align: top;\n",
       "    }\n",
       "\n",
       "    .dataframe thead th {\n",
       "        text-align: right;\n",
       "    }\n",
       "</style>\n",
       "<table border=\"1\" class=\"dataframe\">\n",
       "  <thead>\n",
       "    <tr style=\"text-align: right;\">\n",
       "      <th></th>\n",
       "      <th>game_id</th>\n",
       "      <th>frame</th>\n",
       "      <th>track_id</th>\n",
       "      <th>trackable_object</th>\n",
       "      <th>is_visible</th>\n",
       "      <th>x</th>\n",
       "      <th>y</th>\n",
       "      <th>z</th>\n",
       "    </tr>\n",
       "  </thead>\n",
       "  <tbody>\n",
       "    <tr>\n",
       "      <th>0</th>\n",
       "      <td>10000</td>\n",
       "      <td>10</td>\n",
       "      <td>11565</td>\n",
       "      <td>11565</td>\n",
       "      <td>False</td>\n",
       "      <td>39.02</td>\n",
       "      <td>-1.15</td>\n",
       "      <td>NaN</td>\n",
       "    </tr>\n",
       "    <tr>\n",
       "      <th>1</th>\n",
       "      <td>10000</td>\n",
       "      <td>10</td>\n",
       "      <td>3267</td>\n",
       "      <td>3267</td>\n",
       "      <td>False</td>\n",
       "      <td>19.51</td>\n",
       "      <td>-4.78</td>\n",
       "      <td>NaN</td>\n",
       "    </tr>\n",
       "  </tbody>\n",
       "</table>\n",
       "</div>"
      ],
      "text/plain": [
       "  game_id  frame  track_id  trackable_object  is_visible      x     y   z\n",
       "0   10000     10     11565             11565       False  39.02 -1.15 NaN\n",
       "1   10000     10      3267              3267       False  19.51 -4.78 NaN"
      ]
     },
     "execution_count": 42,
     "metadata": {},
     "output_type": "execute_result"
    }
   ],
   "source": [
    "test_track_df.head(2)"
   ]
  },
  {
   "cell_type": "markdown",
   "id": "231ab799-45a6-4431-9803-f473ab497635",
   "metadata": {},
   "source": [
    "Append the next batch of tracking dataset into the same parquet file"
   ]
  },
  {
   "cell_type": "code",
   "execution_count": 3,
   "id": "4f340eb8-62cd-4241-9897-1921d9a182f8",
   "metadata": {},
   "outputs": [],
   "source": [
    "def transform_track(input_df):\n",
    "    track_df = input_df[[\"game_id\", \"data\", \"frame\"]]\n",
    "    track_df = track_df.explode('data').reset_index(drop=True)\n",
    "    track_df = track_df.join(pd.json_normalize(track_df.pop(\"data\")))\n",
    "    return track_df"
   ]
  },
  {
   "cell_type": "code",
   "execution_count": 6,
   "id": "c6a41843-2004-4c5f-8e3d-5fab11c691f4",
   "metadata": {},
   "outputs": [],
   "source": [
    "tracking_file = \"10009_tracking.txt\"\n",
    "\n",
    "f = open(tracking_file, \"r\")\n",
    "lines = f.readlines()\n",
    "\n",
    "tracking = []\n",
    "for line in lines:\n",
    "    tracking.append(json.loads(line))\n",
    "\n",
    "tracking_game_id = tracking_file.split(\"_\")[0]\n",
    "\n",
    "pandas_tracking_df = pandas_tracking_df[pandas_tracking_df[\"data\"].apply(lambda x: len(x)) > 0]\n",
    "\n",
    "track_df = transform_track(pandas_tracking_df)\n",
    "track_df.to_parquet(\"track.parquet\", engine=\"fastparquet\", append=True)"
   ]
  },
  {
   "cell_type": "code",
   "execution_count": 74,
   "id": "b3ce3ded-6387-4bff-9831-065059af1e80",
   "metadata": {},
   "outputs": [
    {
     "data": {
      "text/plain": [
       "game_id              object\n",
       "frame                 int64\n",
       "track_id              int64\n",
       "trackable_object      int64\n",
       "is_visible             bool\n",
       "x                   float64\n",
       "y                   float64\n",
       "z                   float64\n",
       "dtype: object"
      ]
     },
     "execution_count": 74,
     "metadata": {},
     "output_type": "execute_result"
    }
   ],
   "source": [
    "track_df.dtypes"
   ]
  },
  {
   "cell_type": "code",
   "execution_count": 75,
   "id": "0cf8574b-3a55-41f4-8821-6f67e7a81d04",
   "metadata": {},
   "outputs": [],
   "source": [
    "track_df['trackable_object'] = track_df['trackable_object'].astype(str)"
   ]
  },
  {
   "cell_type": "code",
   "execution_count": 78,
   "id": "f6ea27f8-c9e0-4c90-9526-dbda838c8fa0",
   "metadata": {},
   "outputs": [
    {
     "data": {
      "text/plain": [
       "True"
      ]
     },
     "execution_count": 78,
     "metadata": {},
     "output_type": "execute_result"
    }
   ],
   "source": [
    "track_df.loc[199654]['trackable_object'] == '18776'"
   ]
  },
  {
   "cell_type": "code",
   "execution_count": 185,
   "id": "78046a4f-7e51-4657-bfef-1f75687cf8cc",
   "metadata": {},
   "outputs": [
    {
     "data": {
      "text/plain": [
       "(0, 0)"
      ]
     },
     "execution_count": 185,
     "metadata": {},
     "output_type": "execute_result"
    }
   ],
   "source": [
    "test_track_df = pd.read_parquet(\"track.parquet\")\n",
    "\n",
    "test_track_df.shape"
   ]
  },
  {
   "cell_type": "code",
   "execution_count": 9,
   "id": "4955d7eb-0cdc-4e94-816a-1a58eaa77430",
   "metadata": {},
   "outputs": [
    {
     "data": {
      "text/plain": [
       "array(['10000', '10009'], dtype=object)"
      ]
     },
     "execution_count": 9,
     "metadata": {},
     "output_type": "execute_result"
    }
   ],
   "source": [
    "test_track_df[\"game_id\"].unique()"
   ]
  },
  {
   "cell_type": "code",
   "execution_count": 13,
   "id": "cfbca43b-2da1-4129-8165-78afd3ece475",
   "metadata": {},
   "outputs": [
    {
     "data": {
      "text/plain": [
       "(58140, 6)"
      ]
     },
     "execution_count": 13,
     "metadata": {},
     "output_type": "execute_result"
    }
   ],
   "source": [
    "pandas_tracking_df = pd.read_json(tracking_file, lines=True)\n",
    "\n",
    "pandas_tracking_df.shape"
   ]
  },
  {
   "cell_type": "code",
   "execution_count": 15,
   "id": "b781cbf0-0149-433c-98b5-7d2cac4c8f7f",
   "metadata": {},
   "outputs": [
    {
     "data": {
      "text/html": [
       "<div>\n",
       "<style scoped>\n",
       "    .dataframe tbody tr th:only-of-type {\n",
       "        vertical-align: middle;\n",
       "    }\n",
       "\n",
       "    .dataframe tbody tr th {\n",
       "        vertical-align: top;\n",
       "    }\n",
       "\n",
       "    .dataframe thead th {\n",
       "        text-align: right;\n",
       "    }\n",
       "</style>\n",
       "<table border=\"1\" class=\"dataframe\">\n",
       "  <thead>\n",
       "    <tr style=\"text-align: right;\">\n",
       "      <th></th>\n",
       "      <th>data</th>\n",
       "      <th>possession</th>\n",
       "      <th>frame</th>\n",
       "      <th>image_corners_projection</th>\n",
       "      <th>timestamp</th>\n",
       "      <th>period</th>\n",
       "    </tr>\n",
       "  </thead>\n",
       "  <tbody>\n",
       "    <tr>\n",
       "      <th>0</th>\n",
       "      <td>[]</td>\n",
       "      <td>{'group': None, 'trackable_object': None}</td>\n",
       "      <td>0</td>\n",
       "      <td>[]</td>\n",
       "      <td>NaT</td>\n",
       "      <td>NaN</td>\n",
       "    </tr>\n",
       "    <tr>\n",
       "      <th>1</th>\n",
       "      <td>[]</td>\n",
       "      <td>{'group': None, 'trackable_object': None}</td>\n",
       "      <td>1</td>\n",
       "      <td>[]</td>\n",
       "      <td>NaT</td>\n",
       "      <td>NaN</td>\n",
       "    </tr>\n",
       "  </tbody>\n",
       "</table>\n",
       "</div>"
      ],
      "text/plain": [
       "  data                                 possession  frame  \\\n",
       "0   []  {'group': None, 'trackable_object': None}      0   \n",
       "1   []  {'group': None, 'trackable_object': None}      1   \n",
       "\n",
       "  image_corners_projection timestamp  period  \n",
       "0                       []       NaT     NaN  \n",
       "1                       []       NaT     NaN  "
      ]
     },
     "execution_count": 15,
     "metadata": {},
     "output_type": "execute_result"
    }
   ],
   "source": [
    "pandas_tracking_df.head(2)"
   ]
  },
  {
   "cell_type": "markdown",
   "id": "2b6f9065-b66e-4b41-a3c2-96a1ad9e9ccb",
   "metadata": {},
   "source": [
    "## SQL"
   ]
  },
  {
   "cell_type": "markdown",
   "id": "d35fc51a-03b0-495e-8fc2-968a389febf0",
   "metadata": {},
   "source": [
    "Load dataframe into local sqlite3 DB. First, establish a connection"
   ]
  },
  {
   "cell_type": "code",
   "execution_count": 166,
   "id": "5c98a37e-f117-4e02-9023-e4569f422fb1",
   "metadata": {},
   "outputs": [],
   "source": [
    "import sqlite3\n",
    "\n",
    "con = sqlite3.connect('srcftbl')"
   ]
  },
  {
   "cell_type": "code",
   "execution_count": 41,
   "id": "4dd4e0fd-246a-414e-8fa7-d975eb9be1a4",
   "metadata": {},
   "outputs": [
    {
     "data": {
      "text/plain": [
       "990620"
      ]
     },
     "execution_count": 41,
     "metadata": {},
     "output_type": "execute_result"
    }
   ],
   "source": [
    "track_df.to_sql(name=\"track\", con=con, if_exists='append')"
   ]
  },
  {
   "cell_type": "code",
   "execution_count": 43,
   "id": "1b8bfead-604b-47d4-8b08-7cb4f3e39d70",
   "metadata": {},
   "outputs": [],
   "source": [
    "test_df = pd.read_sql('select * from track limit 2', con)"
   ]
  },
  {
   "cell_type": "code",
   "execution_count": 44,
   "id": "4afc9739-779c-45e2-b9e9-8ad2672b89a4",
   "metadata": {},
   "outputs": [
    {
     "data": {
      "text/plain": [
       "(2, 9)"
      ]
     },
     "execution_count": 44,
     "metadata": {},
     "output_type": "execute_result"
    }
   ],
   "source": [
    "test_df.shape"
   ]
  },
  {
   "cell_type": "code",
   "execution_count": 45,
   "id": "c828fcb9-643c-42cc-b8b2-25bea2062d77",
   "metadata": {},
   "outputs": [
    {
     "data": {
      "text/html": [
       "<div>\n",
       "<style scoped>\n",
       "    .dataframe tbody tr th:only-of-type {\n",
       "        vertical-align: middle;\n",
       "    }\n",
       "\n",
       "    .dataframe tbody tr th {\n",
       "        vertical-align: top;\n",
       "    }\n",
       "\n",
       "    .dataframe thead th {\n",
       "        text-align: right;\n",
       "    }\n",
       "</style>\n",
       "<table border=\"1\" class=\"dataframe\">\n",
       "  <thead>\n",
       "    <tr style=\"text-align: right;\">\n",
       "      <th></th>\n",
       "      <th>index</th>\n",
       "      <th>game_id</th>\n",
       "      <th>frame</th>\n",
       "      <th>track_id</th>\n",
       "      <th>trackable_object</th>\n",
       "      <th>is_visible</th>\n",
       "      <th>x</th>\n",
       "      <th>y</th>\n",
       "      <th>z</th>\n",
       "    </tr>\n",
       "  </thead>\n",
       "  <tbody>\n",
       "    <tr>\n",
       "      <th>0</th>\n",
       "      <td>0</td>\n",
       "      <td>10009</td>\n",
       "      <td>10</td>\n",
       "      <td>512</td>\n",
       "      <td>512</td>\n",
       "      <td>0</td>\n",
       "      <td>40.24</td>\n",
       "      <td>-1.65</td>\n",
       "      <td>None</td>\n",
       "    </tr>\n",
       "    <tr>\n",
       "      <th>1</th>\n",
       "      <td>1</td>\n",
       "      <td>10009</td>\n",
       "      <td>10</td>\n",
       "      <td>4713</td>\n",
       "      <td>4713</td>\n",
       "      <td>0</td>\n",
       "      <td>17.17</td>\n",
       "      <td>-4.61</td>\n",
       "      <td>None</td>\n",
       "    </tr>\n",
       "  </tbody>\n",
       "</table>\n",
       "</div>"
      ],
      "text/plain": [
       "   index game_id  frame  track_id  trackable_object  is_visible      x     y  \\\n",
       "0      0   10009     10       512               512           0  40.24 -1.65   \n",
       "1      1   10009     10      4713              4713           0  17.17 -4.61   \n",
       "\n",
       "      z  \n",
       "0  None  \n",
       "1  None  "
      ]
     },
     "execution_count": 45,
     "metadata": {},
     "output_type": "execute_result"
    }
   ],
   "source": [
    "test_df"
   ]
  },
  {
   "cell_type": "code",
   "execution_count": 47,
   "id": "080e41c6-bfd6-4c47-8a26-1707ec9d2acc",
   "metadata": {},
   "outputs": [
    {
     "data": {
      "text/html": [
       "<div>\n",
       "<style scoped>\n",
       "    .dataframe tbody tr th:only-of-type {\n",
       "        vertical-align: middle;\n",
       "    }\n",
       "\n",
       "    .dataframe tbody tr th {\n",
       "        vertical-align: top;\n",
       "    }\n",
       "\n",
       "    .dataframe thead th {\n",
       "        text-align: right;\n",
       "    }\n",
       "</style>\n",
       "<table border=\"1\" class=\"dataframe\">\n",
       "  <thead>\n",
       "    <tr style=\"text-align: right;\">\n",
       "      <th></th>\n",
       "      <th>game_id</th>\n",
       "      <th>frame</th>\n",
       "      <th>track_id</th>\n",
       "      <th>trackable_object</th>\n",
       "      <th>is_visible</th>\n",
       "      <th>x</th>\n",
       "      <th>y</th>\n",
       "      <th>z</th>\n",
       "    </tr>\n",
       "  </thead>\n",
       "  <tbody>\n",
       "    <tr>\n",
       "      <th>0</th>\n",
       "      <td>10009</td>\n",
       "      <td>10</td>\n",
       "      <td>512</td>\n",
       "      <td>512</td>\n",
       "      <td>False</td>\n",
       "      <td>40.24</td>\n",
       "      <td>-1.65</td>\n",
       "      <td>NaN</td>\n",
       "    </tr>\n",
       "    <tr>\n",
       "      <th>1</th>\n",
       "      <td>10009</td>\n",
       "      <td>10</td>\n",
       "      <td>4713</td>\n",
       "      <td>4713</td>\n",
       "      <td>False</td>\n",
       "      <td>17.17</td>\n",
       "      <td>-4.61</td>\n",
       "      <td>NaN</td>\n",
       "    </tr>\n",
       "  </tbody>\n",
       "</table>\n",
       "</div>"
      ],
      "text/plain": [
       "  game_id  frame  track_id  trackable_object  is_visible      x     y   z\n",
       "0   10009     10       512               512       False  40.24 -1.65 NaN\n",
       "1   10009     10      4713              4713       False  17.17 -4.61 NaN"
      ]
     },
     "execution_count": 47,
     "metadata": {},
     "output_type": "execute_result"
    }
   ],
   "source": [
    "track_df.head(2)"
   ]
  },
  {
   "cell_type": "code",
   "execution_count": 93,
   "id": "808bea9b-1cab-4948-a291-ddef6035f693",
   "metadata": {},
   "outputs": [
    {
     "data": {
      "text/plain": [
       "58140"
      ]
     },
     "execution_count": 93,
     "metadata": {},
     "output_type": "execute_result"
    }
   ],
   "source": [
    "len(frame_df[\"frame\"].unique())"
   ]
  },
  {
   "cell_type": "code",
   "execution_count": 94,
   "id": "0fa9cc2f-7cc7-42fb-bf5c-0f21d0006d66",
   "metadata": {},
   "outputs": [
    {
     "data": {
      "text/plain": [
       "Index(['game_id', 'frame', 'image_corners_projection', 'timestamp', 'period'], dtype='object')"
      ]
     },
     "execution_count": 94,
     "metadata": {},
     "output_type": "execute_result"
    }
   ],
   "source": [
    "frame_df.columns"
   ]
  },
  {
   "cell_type": "code",
   "execution_count": 96,
   "id": "65763bad-719e-40b1-8252-bfbd4f974118",
   "metadata": {},
   "outputs": [
    {
     "data": {
      "text/plain": [
       "Timedelta('0 days 01:35:37.900000')"
      ]
     },
     "execution_count": 96,
     "metadata": {},
     "output_type": "execute_result"
    }
   ],
   "source": [
    "frame_df[\"timestamp\"].max() - frame_df[\"timestamp\"].min()"
   ]
  },
  {
   "cell_type": "markdown",
   "id": "f9cc4b51-f5c7-4c6f-a2f6-d87306b0db65",
   "metadata": {},
   "source": [
    "Testing all the transformation"
   ]
  },
  {
   "cell_type": "code",
   "execution_count": 186,
   "id": "b294b8bf-75fe-4f8f-96a9-7a4761324217",
   "metadata": {},
   "outputs": [],
   "source": [
    "con = sqlite3.connect('srcftbl.db')"
   ]
  },
  {
   "cell_type": "code",
   "execution_count": 188,
   "id": "f28a3633-21a4-44d0-8075-5bbc61704e62",
   "metadata": {},
   "outputs": [
    {
     "data": {
      "text/html": [
       "<div>\n",
       "<style scoped>\n",
       "    .dataframe tbody tr th:only-of-type {\n",
       "        vertical-align: middle;\n",
       "    }\n",
       "\n",
       "    .dataframe tbody tr th {\n",
       "        vertical-align: top;\n",
       "    }\n",
       "\n",
       "    .dataframe thead th {\n",
       "        text-align: right;\n",
       "    }\n",
       "</style>\n",
       "<table border=\"1\" class=\"dataframe\">\n",
       "  <thead>\n",
       "    <tr style=\"text-align: right;\">\n",
       "      <th></th>\n",
       "      <th>index</th>\n",
       "    </tr>\n",
       "  </thead>\n",
       "  <tbody>\n",
       "  </tbody>\n",
       "</table>\n",
       "</div>"
      ],
      "text/plain": [
       "Empty DataFrame\n",
       "Columns: [index]\n",
       "Index: []"
      ]
     },
     "execution_count": 188,
     "metadata": {},
     "output_type": "execute_result"
    }
   ],
   "source": [
    "test_df = pd.read_sql('select * from track limit 2', con)\n",
    "\n",
    "test_df"
   ]
  },
  {
   "cell_type": "code",
   "execution_count": 105,
   "id": "77d26e1f-63eb-4932-896c-3e898df0e919",
   "metadata": {},
   "outputs": [],
   "source": [
    "metadata_df = pd.json_normalize(metadata)\n"
   ]
  },
  {
   "cell_type": "code",
   "execution_count": 110,
   "id": "2109c69e-2654-49cd-81fb-c0e69279fa4f",
   "metadata": {},
   "outputs": [
    {
     "data": {
      "text/html": [
       "<div>\n",
       "<style scoped>\n",
       "    .dataframe tbody tr th:only-of-type {\n",
       "        vertical-align: middle;\n",
       "    }\n",
       "\n",
       "    .dataframe tbody tr th {\n",
       "        vertical-align: top;\n",
       "    }\n",
       "\n",
       "    .dataframe thead th {\n",
       "        text-align: right;\n",
       "    }\n",
       "</style>\n",
       "<table border=\"1\" class=\"dataframe\">\n",
       "  <thead>\n",
       "    <tr style=\"text-align: right;\">\n",
       "      <th></th>\n",
       "      <th>id</th>\n",
       "      <th>home_team_score</th>\n",
       "      <th>away_team_score</th>\n",
       "      <th>date_time</th>\n",
       "      <th>referees</th>\n",
       "      <th>players</th>\n",
       "      <th>status</th>\n",
       "      <th>home_team_side</th>\n",
       "      <th>pitch_length</th>\n",
       "      <th>pitch_width</th>\n",
       "      <th>...</th>\n",
       "      <th>competition_edition.season.id</th>\n",
       "      <th>competition_edition.season.start_year</th>\n",
       "      <th>competition_edition.season.end_year</th>\n",
       "      <th>competition_edition.season.name</th>\n",
       "      <th>competition_edition.name</th>\n",
       "      <th>competition_round.id</th>\n",
       "      <th>competition_round.name</th>\n",
       "      <th>competition_round.round_number</th>\n",
       "      <th>competition_round.potential_overtime</th>\n",
       "      <th>ball.trackable_object</th>\n",
       "    </tr>\n",
       "  </thead>\n",
       "  <tbody>\n",
       "    <tr>\n",
       "      <th>0</th>\n",
       "      <td>10000</td>\n",
       "      <td>2</td>\n",
       "      <td>1</td>\n",
       "      <td>2020-10-24T19:00:00Z</td>\n",
       "      <td>[]</td>\n",
       "      <td>[{'player_role': {'id': 9, 'name': 'Left Midfi...</td>\n",
       "      <td>closed</td>\n",
       "      <td>[right_to_left, left_to_right]</td>\n",
       "      <td>101</td>\n",
       "      <td>68</td>\n",
       "      <td>...</td>\n",
       "      <td>7</td>\n",
       "      <td>2020</td>\n",
       "      <td>2021</td>\n",
       "      <td>2020/2021</td>\n",
       "      <td>ENG - Premier League - 2020/2021</td>\n",
       "      <td>12</td>\n",
       "      <td>Round 6</td>\n",
       "      <td>6</td>\n",
       "      <td>False</td>\n",
       "      <td>55</td>\n",
       "    </tr>\n",
       "  </tbody>\n",
       "</table>\n",
       "<p>1 rows × 60 columns</p>\n",
       "</div>"
      ],
      "text/plain": [
       "      id  home_team_score  away_team_score             date_time referees  \\\n",
       "0  10000                2                1  2020-10-24T19:00:00Z       []   \n",
       "\n",
       "                                             players  status  \\\n",
       "0  [{'player_role': {'id': 9, 'name': 'Left Midfi...  closed   \n",
       "\n",
       "                   home_team_side  pitch_length  pitch_width  ...  \\\n",
       "0  [right_to_left, left_to_right]           101           68  ...   \n",
       "\n",
       "   competition_edition.season.id competition_edition.season.start_year  \\\n",
       "0                              7                                  2020   \n",
       "\n",
       "  competition_edition.season.end_year  competition_edition.season.name  \\\n",
       "0                                2021                        2020/2021   \n",
       "\n",
       "           competition_edition.name competition_round.id  \\\n",
       "0  ENG - Premier League - 2020/2021                   12   \n",
       "\n",
       "  competition_round.name competition_round.round_number  \\\n",
       "0                Round 6                              6   \n",
       "\n",
       "   competition_round.potential_overtime  ball.trackable_object  \n",
       "0                                 False                     55  \n",
       "\n",
       "[1 rows x 60 columns]"
      ]
     },
     "execution_count": 110,
     "metadata": {},
     "output_type": "execute_result"
    }
   ],
   "source": [
    "metadata_df"
   ]
  },
  {
   "cell_type": "code",
   "execution_count": 112,
   "id": "3c3e7674-1229-4cb1-b0c4-a3b0bf265cdc",
   "metadata": {},
   "outputs": [],
   "source": [
    "metadata_df = metadata_df.map(str)"
   ]
  },
  {
   "cell_type": "code",
   "execution_count": 113,
   "id": "adca8c2f-87e0-4bcf-afb3-fd2ec3f0db04",
   "metadata": {},
   "outputs": [
    {
     "data": {
      "text/plain": [
       "id                                       object\n",
       "home_team_score                          object\n",
       "away_team_score                          object\n",
       "date_time                                object\n",
       "referees                                 object\n",
       "players                                  object\n",
       "status                                   object\n",
       "home_team_side                           object\n",
       "pitch_length                             object\n",
       "pitch_width                              object\n",
       "stadium.id                               object\n",
       "stadium.name                             object\n",
       "stadium.city                             object\n",
       "stadium.capacity                         object\n",
       "home_team.id                             object\n",
       "home_team.name                           object\n",
       "home_team.short_name                     object\n",
       "home_team.acronym                        object\n",
       "home_team_kit.id                         object\n",
       "home_team_kit.team_id                    object\n",
       "home_team_kit.season.id                  object\n",
       "home_team_kit.season.start_year          object\n",
       "home_team_kit.season.end_year            object\n",
       "home_team_kit.season.name                object\n",
       "home_team_kit.name                       object\n",
       "home_team_kit.jersey_color               object\n",
       "home_team_kit.number_color               object\n",
       "away_team.id                             object\n",
       "away_team.name                           object\n",
       "away_team.short_name                     object\n",
       "away_team.acronym                        object\n",
       "away_team_kit.id                         object\n",
       "away_team_kit.team_id                    object\n",
       "away_team_kit.season.id                  object\n",
       "away_team_kit.season.start_year          object\n",
       "away_team_kit.season.end_year            object\n",
       "away_team_kit.season.name                object\n",
       "away_team_kit.name                       object\n",
       "away_team_kit.jersey_color               object\n",
       "away_team_kit.number_color               object\n",
       "home_team_coach.id                       object\n",
       "home_team_coach.first_name               object\n",
       "home_team_coach.last_name                object\n",
       "away_team_coach.id                       object\n",
       "away_team_coach.first_name               object\n",
       "away_team_coach.last_name                object\n",
       "competition_edition.id                   object\n",
       "competition_edition.competition.id       object\n",
       "competition_edition.competition.area     object\n",
       "competition_edition.competition.name     object\n",
       "competition_edition.season.id            object\n",
       "competition_edition.season.start_year    object\n",
       "competition_edition.season.end_year      object\n",
       "competition_edition.season.name          object\n",
       "competition_edition.name                 object\n",
       "competition_round.id                     object\n",
       "competition_round.name                   object\n",
       "competition_round.round_number           object\n",
       "competition_round.potential_overtime     object\n",
       "ball.trackable_object                    object\n",
       "dtype: object"
      ]
     },
     "execution_count": 113,
     "metadata": {},
     "output_type": "execute_result"
    }
   ],
   "source": [
    "metadata_df.dtypes"
   ]
  },
  {
   "cell_type": "code",
   "execution_count": 189,
   "id": "f75bc437-3a7e-4dbc-b09e-022278f29a30",
   "metadata": {},
   "outputs": [
    {
     "data": {
      "text/html": [
       "<div>\n",
       "<style scoped>\n",
       "    .dataframe tbody tr th:only-of-type {\n",
       "        vertical-align: middle;\n",
       "    }\n",
       "\n",
       "    .dataframe tbody tr th {\n",
       "        vertical-align: top;\n",
       "    }\n",
       "\n",
       "    .dataframe thead th {\n",
       "        text-align: right;\n",
       "    }\n",
       "</style>\n",
       "<table border=\"1\" class=\"dataframe\">\n",
       "  <thead>\n",
       "    <tr style=\"text-align: right;\">\n",
       "      <th></th>\n",
       "      <th>id</th>\n",
       "      <th>home_team_score</th>\n",
       "      <th>away_team_score</th>\n",
       "      <th>date_time</th>\n",
       "      <th>referees</th>\n",
       "      <th>players</th>\n",
       "      <th>status</th>\n",
       "      <th>home_team_side</th>\n",
       "      <th>pitch_length</th>\n",
       "      <th>pitch_width</th>\n",
       "      <th>...</th>\n",
       "      <th>competition_edition.season.id</th>\n",
       "      <th>competition_edition.season.start_year</th>\n",
       "      <th>competition_edition.season.end_year</th>\n",
       "      <th>competition_edition.season.name</th>\n",
       "      <th>competition_edition.name</th>\n",
       "      <th>competition_round.id</th>\n",
       "      <th>competition_round.name</th>\n",
       "      <th>competition_round.round_number</th>\n",
       "      <th>competition_round.potential_overtime</th>\n",
       "      <th>ball.trackable_object</th>\n",
       "    </tr>\n",
       "  </thead>\n",
       "  <tbody>\n",
       "    <tr>\n",
       "      <th>0</th>\n",
       "      <td>10000</td>\n",
       "      <td>2</td>\n",
       "      <td>1</td>\n",
       "      <td>2020-10-24T19:00:00Z</td>\n",
       "      <td>[]</td>\n",
       "      <td>[{'player_role': {'id': 9, 'name': 'Left Midfi...</td>\n",
       "      <td>closed</td>\n",
       "      <td>['right_to_left', 'left_to_right']</td>\n",
       "      <td>101</td>\n",
       "      <td>68</td>\n",
       "      <td>...</td>\n",
       "      <td>7</td>\n",
       "      <td>2020</td>\n",
       "      <td>2021</td>\n",
       "      <td>2020/2021</td>\n",
       "      <td>ENG - Premier League - 2020/2021</td>\n",
       "      <td>12</td>\n",
       "      <td>Round 6</td>\n",
       "      <td>6</td>\n",
       "      <td>False</td>\n",
       "      <td>55</td>\n",
       "    </tr>\n",
       "  </tbody>\n",
       "</table>\n",
       "<p>1 rows × 60 columns</p>\n",
       "</div>"
      ],
      "text/plain": [
       "      id home_team_score away_team_score             date_time referees  \\\n",
       "0  10000               2               1  2020-10-24T19:00:00Z       []   \n",
       "\n",
       "                                             players  status  \\\n",
       "0  [{'player_role': {'id': 9, 'name': 'Left Midfi...  closed   \n",
       "\n",
       "                       home_team_side pitch_length pitch_width  ...  \\\n",
       "0  ['right_to_left', 'left_to_right']          101          68  ...   \n",
       "\n",
       "  competition_edition.season.id competition_edition.season.start_year  \\\n",
       "0                             7                                  2020   \n",
       "\n",
       "  competition_edition.season.end_year competition_edition.season.name  \\\n",
       "0                                2021                       2020/2021   \n",
       "\n",
       "           competition_edition.name competition_round.id  \\\n",
       "0  ENG - Premier League - 2020/2021                   12   \n",
       "\n",
       "  competition_round.name competition_round.round_number  \\\n",
       "0                Round 6                              6   \n",
       "\n",
       "  competition_round.potential_overtime ball.trackable_object  \n",
       "0                                False                    55  \n",
       "\n",
       "[1 rows x 60 columns]"
      ]
     },
     "execution_count": 189,
     "metadata": {},
     "output_type": "execute_result"
    }
   ],
   "source": [
    "metadata_df"
   ]
  },
  {
   "cell_type": "code",
   "execution_count": 119,
   "id": "175afe64-14a2-4c58-9e81-7b9e37d19353",
   "metadata": {},
   "outputs": [
    {
     "data": {
      "text/html": [
       "<div>\n",
       "<style scoped>\n",
       "    .dataframe tbody tr th:only-of-type {\n",
       "        vertical-align: middle;\n",
       "    }\n",
       "\n",
       "    .dataframe tbody tr th {\n",
       "        vertical-align: top;\n",
       "    }\n",
       "\n",
       "    .dataframe thead th {\n",
       "        text-align: right;\n",
       "    }\n",
       "</style>\n",
       "<table border=\"1\" class=\"dataframe\">\n",
       "  <thead>\n",
       "    <tr style=\"text-align: right;\">\n",
       "      <th></th>\n",
       "      <th>player_role</th>\n",
       "      <th>start_time</th>\n",
       "      <th>end_time</th>\n",
       "      <th>number</th>\n",
       "      <th>yellow_card</th>\n",
       "      <th>red_card</th>\n",
       "      <th>injured</th>\n",
       "      <th>goal</th>\n",
       "      <th>own_goal</th>\n",
       "      <th>team_player_id</th>\n",
       "      <th>team_id</th>\n",
       "      <th>id</th>\n",
       "      <th>first_name</th>\n",
       "      <th>last_name</th>\n",
       "      <th>short_name</th>\n",
       "      <th>birthday</th>\n",
       "      <th>trackable_object</th>\n",
       "      <th>gender</th>\n",
       "    </tr>\n",
       "  </thead>\n",
       "  <tbody>\n",
       "    <tr>\n",
       "      <th>0</th>\n",
       "      <td>{'id': 9, 'name': 'Left Midfield', 'acronym': ...</td>\n",
       "      <td>01:15:33</td>\n",
       "      <td>None</td>\n",
       "      <td>17</td>\n",
       "      <td>0</td>\n",
       "      <td>0</td>\n",
       "      <td>False</td>\n",
       "      <td>0</td>\n",
       "      <td>0</td>\n",
       "      <td>15719</td>\n",
       "      <td>746</td>\n",
       "      <td>18534</td>\n",
       "      <td>David</td>\n",
       "      <td>McGoldrick</td>\n",
       "      <td>D. McGoldrick</td>\n",
       "      <td>1987-11-29</td>\n",
       "      <td>18731</td>\n",
       "      <td>male</td>\n",
       "    </tr>\n",
       "  </tbody>\n",
       "</table>\n",
       "</div>"
      ],
      "text/plain": [
       "                                         player_role start_time end_time  \\\n",
       "0  {'id': 9, 'name': 'Left Midfield', 'acronym': ...   01:15:33     None   \n",
       "\n",
       "   number  yellow_card  red_card  injured  goal  own_goal  team_player_id  \\\n",
       "0      17            0         0    False     0         0           15719   \n",
       "\n",
       "   team_id     id first_name   last_name     short_name    birthday  \\\n",
       "0      746  18534      David  McGoldrick  D. McGoldrick  1987-11-29   \n",
       "\n",
       "   trackable_object gender  \n",
       "0             18731   male  "
      ]
     },
     "execution_count": 119,
     "metadata": {},
     "output_type": "execute_result"
    }
   ],
   "source": [
    "players_df.head(1)"
   ]
  },
  {
   "cell_type": "code",
   "execution_count": 179,
   "id": "e6f05994-1c3e-4251-b8ec-ab9720a81599",
   "metadata": {},
   "outputs": [
    {
     "data": {
      "text/plain": [
       "player_role         object\n",
       "start_time          object\n",
       "end_time            object\n",
       "number               int64\n",
       "yellow_card          int64\n",
       "red_card             int64\n",
       "injured               bool\n",
       "goal                 int64\n",
       "own_goal             int64\n",
       "team_player_id       int64\n",
       "team_id              int64\n",
       "id                   int64\n",
       "first_name          object\n",
       "last_name           object\n",
       "short_name          object\n",
       "birthday            object\n",
       "trackable_object     int64\n",
       "gender              object\n",
       "dtype: object"
      ]
     },
     "execution_count": 179,
     "metadata": {},
     "output_type": "execute_result"
    }
   ],
   "source": [
    "players_df.dtypes"
   ]
  },
  {
   "cell_type": "code",
   "execution_count": 180,
   "id": "e0947501-7b13-4462-ae11-3df5ab035801",
   "metadata": {},
   "outputs": [],
   "source": [
    "players_df['injured'] = players_df['injured'].astype(int)\n",
    "players_df['player_role'] = players_df['player_role'].astype(str)"
   ]
  },
  {
   "cell_type": "code",
   "execution_count": 181,
   "id": "85174af8-627f-4cf9-af7a-5683971162ac",
   "metadata": {},
   "outputs": [
    {
     "data": {
      "text/plain": [
       "36"
      ]
     },
     "execution_count": 181,
     "metadata": {},
     "output_type": "execute_result"
    }
   ],
   "source": [
    "players_df.to_sql(name=\"player\", con=con, if_exists='append')"
   ]
  },
  {
   "cell_type": "code",
   "execution_count": 123,
   "id": "cfb4d6a7-4812-42d7-ad4d-698ef6f3f9f5",
   "metadata": {},
   "outputs": [
    {
     "data": {
      "text/plain": [
       "game_id              object\n",
       "frame                 int64\n",
       "track_id              int64\n",
       "trackable_object     object\n",
       "is_visible             bool\n",
       "x                   float64\n",
       "y                   float64\n",
       "z                   float64\n",
       "dtype: object"
      ]
     },
     "execution_count": 123,
     "metadata": {},
     "output_type": "execute_result"
    }
   ],
   "source": [
    "track_df.dtypes"
   ]
  },
  {
   "cell_type": "code",
   "execution_count": 126,
   "id": "b9c7ca9b-4f42-4a93-a460-9a52dac82843",
   "metadata": {},
   "outputs": [
    {
     "data": {
      "text/plain": [
       "990620"
      ]
     },
     "execution_count": 126,
     "metadata": {},
     "output_type": "execute_result"
    }
   ],
   "source": [
    "track_df.to_sql(name=\"track\", con=con, if_exists='append')"
   ]
  },
  {
   "cell_type": "code",
   "execution_count": 124,
   "id": "9fff73dc-1584-47fa-b38c-346bba80e6b0",
   "metadata": {},
   "outputs": [
    {
     "data": {
      "text/plain": [
       "game_id             object\n",
       "group               object\n",
       "trackable_object    object\n",
       "dtype: object"
      ]
     },
     "execution_count": 124,
     "metadata": {},
     "output_type": "execute_result"
    }
   ],
   "source": [
    "possession_df.dtypes"
   ]
  },
  {
   "cell_type": "code",
   "execution_count": 127,
   "id": "c8a915b4-ca24-4246-b8e5-d1df472482e1",
   "metadata": {},
   "outputs": [
    {
     "data": {
      "text/plain": [
       "58140"
      ]
     },
     "execution_count": 127,
     "metadata": {},
     "output_type": "execute_result"
    }
   ],
   "source": [
    "possession_df.to_sql(name=\"possession\", con=con, if_exists='append')"
   ]
  },
  {
   "cell_type": "code",
   "execution_count": 165,
   "id": "f4ecff78-6611-4f77-9815-1f6a485cdab0",
   "metadata": {},
   "outputs": [
    {
     "data": {
      "text/plain": [
       "game_id                     object\n",
       "frame                        int64\n",
       "image_corners_projection    object\n",
       "period                       int64\n",
       "timestamp_in_seconds         int64\n",
       "dtype: object"
      ]
     },
     "execution_count": 165,
     "metadata": {},
     "output_type": "execute_result"
    }
   ],
   "source": [
    "frame_df.dtypes"
   ]
  },
  {
   "cell_type": "code",
   "execution_count": 169,
   "id": "d92452fb-55c2-42e2-8515-620aab127434",
   "metadata": {},
   "outputs": [],
   "source": [
    "frame_df['image_corners_projection'] = frame_df['image_corners_projection'].astype(str) "
   ]
  },
  {
   "cell_type": "code",
   "execution_count": 170,
   "id": "1190200c-c4bb-4949-b383-4a129f52da8f",
   "metadata": {},
   "outputs": [
    {
     "data": {
      "text/plain": [
       "58121"
      ]
     },
     "execution_count": 170,
     "metadata": {},
     "output_type": "execute_result"
    }
   ],
   "source": [
    "rows = frame_df.to_sql(name=\"frame\", con=con, if_exists='append')"
   ]
  },
  {
   "cell_type": "code",
   "execution_count": 184,
   "id": "ac774b5f-872b-4172-94d7-6534c571a2a5",
   "metadata": {},
   "outputs": [
    {
     "ename": "AttributeError",
     "evalue": "module 'posixpath' has no attribute 'isexist'",
     "output_type": "error",
     "traceback": [
      "\u001b[0;31m---------------------------------------------------------------------------\u001b[0m",
      "\u001b[0;31mAttributeError\u001b[0m                            Traceback (most recent call last)",
      "Cell \u001b[0;32mIn[184], line 3\u001b[0m\n\u001b[1;32m      1\u001b[0m srfctbl_db \u001b[38;5;241m=\u001b[39m \u001b[38;5;124m\"\u001b[39m\u001b[38;5;124msrcftbl.db\u001b[39m\u001b[38;5;124m\"\u001b[39m\n\u001b[1;32m      2\u001b[0m \u001b[38;5;28;01mimport\u001b[39;00m \u001b[38;5;21;01mos\u001b[39;00m\n\u001b[0;32m----> 3\u001b[0m \u001b[43mos\u001b[49m\u001b[38;5;241;43m.\u001b[39;49m\u001b[43mpath\u001b[49m\u001b[38;5;241;43m.\u001b[39;49m\u001b[43misexist\u001b[49m(srfctbk_df)\n",
      "\u001b[0;31mAttributeError\u001b[0m: module 'posixpath' has no attribute 'isexist'"
     ]
    }
   ],
   "source": [
    "srfctbl_db = \"srcftbl.db\"\n",
    "import os\n",
    "os.path.isexist(srfctbk_df)"
   ]
  },
  {
   "cell_type": "code",
   "execution_count": null,
   "id": "1f3307ad-2213-40f1-858a-5d813065f7ca",
   "metadata": {},
   "outputs": [],
   "source": []
  }
 ],
 "metadata": {
  "kernelspec": {
   "display_name": "Python 3 (ipykernel)",
   "language": "python",
   "name": "python3"
  },
  "language_info": {
   "codemirror_mode": {
    "name": "ipython",
    "version": 3
   },
   "file_extension": ".py",
   "mimetype": "text/x-python",
   "name": "python",
   "nbconvert_exporter": "python",
   "pygments_lexer": "ipython3",
   "version": "3.10.12"
  }
 },
 "nbformat": 4,
 "nbformat_minor": 5
}
